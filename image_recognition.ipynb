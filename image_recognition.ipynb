{
  "cells": [
    {
      "cell_type": "markdown",
      "metadata": {
        "id": "r-ujs00d6x6c"
      },
      "source": [
        "sivathorn siralert"
      ]
    },
    {
      "cell_type": "markdown",
      "metadata": {
        "id": "3bQLYNyC7FqH"
      },
      "source": [
        "# libraries and folders"
      ]
    },
    {
      "cell_type": "code",
      "execution_count": 61,
      "metadata": {
        "colab": {
          "base_uri": "https://localhost:8080/"
        },
        "id": "TPvnUiBz6sZY",
        "outputId": "8edc6557-7b16-484e-a08a-4338d31120bf"
      },
      "outputs": [
        {
          "name": "stdout",
          "output_type": "stream",
          "text": [
            "Drive already mounted at /content/drive; to attempt to forcibly remount, call drive.mount(\"/content/drive\", force_remount=True).\n",
            "Files in the folder:\n",
            "random_shapes_21.png\n",
            "random_shapes_14.png\n",
            "ground_truth_mapping.json\n",
            "random_shapes_22.png\n",
            "random_shapes_29.png\n",
            "random_shapes_17.png\n",
            "random_shapes_26.png\n",
            "random_shapes_7.png\n",
            "random_shapes_34.png\n",
            "random_shapes_15.png\n",
            "random_shapes_2.png\n",
            "random_shapes_9.png\n",
            "random_shapes_10.png\n",
            "random_shapes_19.png\n",
            "random_shapes_6.png\n",
            "random_shapes_5.png\n",
            "random_shapes_4.png\n",
            "random_shapes_28.png\n",
            "random_shapes_24.png\n",
            "random_shapes_8.png\n",
            "random_shapes_3.png\n",
            "random_shapes_11.png\n",
            "random_shapes_32.png\n",
            "random_shapes_1.png\n",
            "random_shapes_23.png\n",
            "random_shapes_13.png\n",
            "random_shapes_20.png\n",
            "random_shapes_16.png\n",
            "random_shapes_18.png\n",
            "random_shapes_30.png\n",
            "random_shapes_12.png\n",
            "random_shapes_33.png\n",
            "random_shapes_35.png\n",
            "random_shapes_27.png\n",
            "random_shapes_25.png\n",
            "random_shapes_0.png\n",
            "random_shapes_31.png\n",
            "random_shapes_60.png\n",
            "random_shapes_38.png\n",
            "random_shapes_47.png\n",
            "random_shapes_46.png\n",
            "random_shapes_59.png\n",
            "random_shapes_65.png\n",
            "random_shapes_55.png\n",
            "random_shapes_52.png\n",
            "random_shapes_66.png\n",
            "random_shapes_45.png\n",
            "random_shapes_40.png\n",
            "random_shapes_44.png\n",
            "random_shapes_67.png\n",
            "random_shapes_50.png\n",
            "random_shapes_37.png\n",
            "random_shapes_61.png\n",
            "random_shapes_63.png\n",
            "random_shapes_54.png\n",
            "random_shapes_57.png\n",
            "random_shapes_64.png\n",
            "random_shapes_56.png\n",
            "random_shapes_48.png\n",
            "random_shapes_36.png\n",
            "random_shapes_49.png\n",
            "random_shapes_51.png\n",
            "random_shapes_58.png\n",
            "random_shapes_42.png\n",
            "random_shapes_43.png\n",
            "random_shapes_62.png\n",
            "random_shapes_39.png\n",
            "random_shapes_41.png\n",
            "random_shapes_53.png\n",
            "random_shapes_74.png\n",
            "random_shapes_95.png\n",
            "random_shapes_71.png\n",
            "random_shapes_68.png\n",
            "random_shapes_72.png\n",
            "random_shapes_81.png\n",
            "random_shapes_96.png\n",
            "random_shapes_78.png\n",
            "random_shapes_84.png\n",
            "random_shapes_94.png\n",
            "random_shapes_69.png\n",
            "random_shapes_75.png\n",
            "random_shapes_87.png\n",
            "random_shapes_97.png\n",
            "random_shapes_76.png\n",
            "random_shapes_86.png\n",
            "random_shapes_93.png\n",
            "random_shapes_98.png\n",
            "random_shapes_90.png\n",
            "random_shapes_88.png\n",
            "random_shapes_92.png\n",
            "random_shapes_91.png\n",
            "random_shapes_79.png\n",
            "random_shapes_89.png\n",
            "random_shapes_77.png\n",
            "random_shapes_70.png\n",
            "random_shapes_82.png\n",
            "random_shapes_99.png\n",
            "random_shapes_73.png\n",
            "random_shapes_85.png\n",
            "random_shapes_83.png\n",
            "random_shapes_80.png\n"
          ]
        }
      ],
      "source": [
        "import cv2\n",
        "import os\n",
        "import numpy as np\n",
        "from google.colab import drive\n",
        "from google.colab.patches import cv2_imshow\n",
        "import json\n",
        "import torch\n",
        "from pathlib import Path\n",
        "from matplotlib import pyplot as plt\n",
        "\n",
        "\n",
        "# Mount Google Drive\n",
        "drive.mount('/content/drive')\n",
        "\n",
        "# Path to the folder containing the images\n",
        "folder_path = \"/content/drive/My Drive/shape_data/images\"\n",
        "\n",
        "# Check if the folder exists\n",
        "if os.path.exists(folder_path):\n",
        "    # Get a list of all file names in the folder\n",
        "    file_names = os.listdir(folder_path)\n",
        "\n",
        "    # Print the list of file names\n",
        "    print(\"Files in the folder:\")\n",
        "    for file_name in file_names:\n",
        "        print(file_name)\n",
        "else:\n",
        "    print(\"Folder does not exist:\", folder_path)"
      ]
    },
    {
      "cell_type": "markdown",
      "metadata": {
        "id": "H0GeQElV7N95"
      },
      "source": [
        "# designing the algorithm (classic computer vision technique)"
      ]
    },
    {
      "cell_type": "code",
      "execution_count": 62,
      "metadata": {
        "id": "ArKO_0_u7QRT"
      },
      "outputs": [],
      "source": [
        "def detect_shapes(image):\n",
        "    # Convert image to grayscale\n",
        "    gray = cv2.cvtColor(image, cv2.COLOR_BGR2GRAY)\n",
        "\n",
        "    # Apply GaussianBlur to reduce noise\n",
        "    blurred = cv2.GaussianBlur(gray, (5, 5), 0)\n",
        "\n",
        "    # Threshold the image to obtain binary image\n",
        "    _, thresh = cv2.threshold(blurred, 200, 255, cv2.THRESH_BINARY)\n",
        "\n",
        "    # Find contours in the binary image\n",
        "    contours, _ = cv2.findContours(thresh, cv2.RETR_EXTERNAL, cv2.CHAIN_APPROX_SIMPLE)\n",
        "\n",
        "    # Initialize counters for circles, triangles, and squares\n",
        "    circle_count = 0\n",
        "    triangle_count = 0\n",
        "    square_count = 0\n",
        "\n",
        "    # Iterate through contours\n",
        "    for contour in contours:\n",
        "        # Approximate the contour to reduce the number of points\n",
        "        epsilon = 0.04 * cv2.arcLength(contour, True)\n",
        "        approx = cv2.approxPolyDP(contour, epsilon, True)\n",
        "\n",
        "        # Determine the shape based on the number of vertices\n",
        "        vertices = len(approx)\n",
        "        if vertices >= 5:  # If vertices are more than 6, consider it a circle\n",
        "            circle_count += 1\n",
        "        elif vertices == 3:  # If vertices are 3, consider it a triangle\n",
        "            triangle_count += 1\n",
        "        elif vertices == 4:  # If vertices are 4, consider it a square\n",
        "            square_count += 1\n",
        "\n",
        "    return circle_count, triangle_count, square_count\n",
        "\n",
        "\n",
        "def load_ground_truth(json_file):\n",
        "    with open(json_file, 'r') as f:\n",
        "        ground_truth = json.load(f)\n",
        "    return ground_truth\n"
      ]
    },
    {
      "cell_type": "markdown",
      "metadata": {
        "id": "DziO3Fg371UI"
      },
      "source": [
        "using the algorithm"
      ]
    },
    {
      "cell_type": "code",
      "execution_count": 63,
      "metadata": {
        "colab": {
          "base_uri": "https://localhost:8080/",
          "height": 1000
        },
        "id": "LhTXkQi6729U",
        "outputId": "9f9619db-fddc-4b2d-ee82-1c6cf5707e34"
      },
      "outputs": [
        {
          "data": {
            "image/png": "[encoded data removed]",
            "text/plain": [
              "<PIL.Image.Image image mode=RGB size=300x300>"
            ]
          },
          "metadata": {},
          "output_type": "display_data"
        },
        {
          "name": "stdout",
          "output_type": "stream",
          "text": [
            "Circle count: 1\n",
            "Triangle count: 1\n",
            "Square count: 0\n"
          ]
        },
        {
          "data": {
            "image/png": "[encoded data removed]",
            "text/plain": [
              "<PIL.Image.Image image mode=RGB size=300x300>"
            ]
          },
          "metadata": {},
          "output_type": "display_data"
        },
        {
          "name": "stdout",
          "output_type": "stream",
          "text": [
            "Circle count: 1\n",
            "Triangle count: 0\n",
            "Square count: 1\n"
          ]
        },
        {
          "data": {
            "image/png": "[encoded data removed]",
            "text/plain": [
              "<PIL.Image.Image image mode=RGB size=300x300>"
            ]
          },
          "metadata": {},
          "output_type": "display_data"
        },
        {
          "name": "stdout",
          "output_type": "stream",
          "text": [
            "Circle count: 1\n",
            "Triangle count: 0\n",
            "Square count: 1\n"
          ]
        },
        {
          "data": {
            "image/png": "[encoded data removed]",
            "text/plain": [
              "<PIL.Image.Image image mode=RGB size=300x300>"
            ]
          },
          "metadata": {},
          "output_type": "display_data"
        },
        {
          "name": "stdout",
          "output_type": "stream",
          "text": [
            "Circle count: 0\n",
            "Triangle count: 0\n",
            "Square count: 2\n"
          ]
        },
        {
          "data": {
            "image/png": "[encoded data removed]",
            "text/plain": [
              "<PIL.Image.Image image mode=RGB size=300x300>"
            ]
          },
          "metadata": {},
          "output_type": "display_data"
        },
        {
          "name": "stdout",
          "output_type": "stream",
          "text": [
            "Circle count: 1\n",
            "Triangle count: 0\n",
            "Square count: 0\n"
          ]
        },
        {
          "data": {
            "image/png": "[encoded data removed]",
            "text/plain": [
              "<PIL.Image.Image image mode=RGB size=300x300>"
            ]
          },
          "metadata": {},
          "output_type": "display_data"
        },
        {
          "name": "stdout",
          "output_type": "stream",
          "text": [
            "Circle count: 1\n",
            "Triangle count: 1\n",
            "Square count: 1\n"
          ]
        },
        {
          "data": {
            "image/png": "[encoded data removed]",
            "text/plain": [
              "<PIL.Image.Image image mode=RGB size=300x300>"
            ]
          },
          "metadata": {},
          "output_type": "display_data"
        },
        {
          "name": "stdout",
          "output_type": "stream",
          "text": [
            "Circle count: 1\n",
            "Triangle count: 1\n",
            "Square count: 0\n"
          ]
        },
        {
          "data": {
            "image/png": "[encoded data removed]",
            "text/plain": [
              "<PIL.Image.Image image mode=RGB size=300x300>"
            ]
          },
          "metadata": {},
          "output_type": "display_data"
        },
        {
          "name": "stdout",
          "output_type": "stream",
          "text": [
            "Circle count: 1\n",
            "Triangle count: 1\n",
            "Square count: 0\n"
          ]
        },
        {
          "data": {
            "image/png": "[encoded data removed]",
            "text/plain": [
              "<PIL.Image.Image image mode=RGB size=300x300>"
            ]
          },
          "metadata": {},
          "output_type": "display_data"
        },
        {
          "name": "stdout",
          "output_type": "stream",
          "text": [
            "Circle count: 1\n",
            "Triangle count: 0\n",
            "Square count: 1\n"
          ]
        },
        {
          "data": {
            "image/png": "[encoded data removed]",
            "text/plain": [
              "<PIL.Image.Image image mode=RGB size=300x300>"
            ]
          },
          "metadata": {},
          "output_type": "display_data"
        },
        {
          "name": "stdout",
          "output_type": "stream",
          "text": [
            "Circle count: 0\n",
            "Triangle count: 0\n",
            "Square count: 1\n"
          ]
        },
        {
          "data": {
            "image/png": "[encoded data removed]",
            "text/plain": [
              "<PIL.Image.Image image mode=RGB size=300x300>"
            ]
          },
          "metadata": {},
          "output_type": "display_data"
        },
        {
          "name": "stdout",
          "output_type": "stream",
          "text": [
            "Circle count: 1\n",
            "Triangle count: 0\n",
            "Square count: 0\n"
          ]
        },
        {
          "data": {
            "image/png": "[encoded data removed]",
            "text/plain": [
              "<PIL.Image.Image image mode=RGB size=300x300>"
            ]
          },
          "metadata": {},
          "output_type": "display_data"
        },
        {
          "name": "stdout",
          "output_type": "stream",
          "text": [
            "Circle count: 1\n",
            "Triangle count: 0\n",
            "Square count: 0\n"
          ]
        },
        {
          "data": {
            "image/png": "[encoded data removed]",
            "text/plain": [
              "<PIL.Image.Image image mode=RGB size=300x300>"
            ]
          },
          "metadata": {},
          "output_type": "display_data"
        },
        {
          "name": "stdout",
          "output_type": "stream",
          "text": [
            "Circle count: 1\n",
            "Triangle count: 0\n",
            "Square count: 0\n"
          ]
        },
        {
          "data": {
            "image/png": "[encoded data removed]",
            "text/plain": [
              "<PIL.Image.Image image mode=RGB size=300x300>"
            ]
          },
          "metadata": {},
          "output_type": "display_data"
        },
        {
          "name": "stdout",
          "output_type": "stream",
          "text": [
            "Circle count: 2\n",
            "Triangle count: 0\n",
            "Square count: 0\n"
          ]
        },
        {
          "data": {
            "image/png": "[encoded data removed]",
            "text/plain": [
              "<PIL.Image.Image image mode=RGB size=300x300>"
            ]
          },
          "metadata": {},
          "output_type": "display_data"
        },
        {
          "name": "stdout",
          "output_type": "stream",
          "text": [
            "Circle count: 0\n",
            "Triangle count: 0\n",
            "Square count: 1\n"
          ]
        },
        {
          "data": {
            "image/png": "[encoded data removed]",
            "text/plain": [
              "<PIL.Image.Image image mode=RGB size=300x300>"
            ]
          },
          "metadata": {},
          "output_type": "display_data"
        },
        {
          "name": "stdout",
          "output_type": "stream",
          "text": [
            "Circle count: 1\n",
            "Triangle count: 0\n",
            "Square count: 0\n"
          ]
        },
        {
          "data": {
            "image/png": "[encoded data removed]",
            "text/plain": [
              "<PIL.Image.Image image mode=RGB size=300x300>"
            ]
          },
          "metadata": {},
          "output_type": "display_data"
        },
        {
          "name": "stdout",
          "output_type": "stream",
          "text": [
            "Circle count: 1\n",
            "Triangle count: 0\n",
            "Square count: 0\n"
          ]
        },
        {
          "data": {
            "image/png": "[encoded data removed]",
            "text/plain": [
              "<PIL.Image.Image image mode=RGB size=300x300>"
            ]
          },
          "metadata": {},
          "output_type": "display_data"
        },
        {
          "name": "stdout",
          "output_type": "stream",
          "text": [
            "Circle count: 1\n",
            "Triangle count: 1\n",
            "Square count: 0\n"
          ]
        },
        {
          "data": {
            "image/png": "[encoded data removed]",
            "text/plain": [
              "<PIL.Image.Image image mode=RGB size=300x300>"
            ]
          },
          "metadata": {},
          "output_type": "display_data"
        },
        {
          "name": "stdout",
          "output_type": "stream",
          "text": [
            "Circle count: 0\n",
            "Triangle count: 0\n",
            "Square count: 1\n"
          ]
        },
        {
          "data": {
            "image/png": "[encoded data removed]",
            "text/plain": [
              "<PIL.Image.Image image mode=RGB size=300x300>"
            ]
          },
          "metadata": {},
          "output_type": "display_data"
        },
        {
          "name": "stdout",
          "output_type": "stream",
          "text": [
            "Circle count: 0\n",
            "Triangle count: 0\n",
            "Square count: 1\n"
          ]
        },
        {
          "data": {
            "image/png": "[encoded data removed]",
            "text/plain": [
              "<PIL.Image.Image image mode=RGB size=300x300>"
            ]
          },
          "metadata": {},
          "output_type": "display_data"
        },
        {
          "name": "stdout",
          "output_type": "stream",
          "text": [
            "Circle count: 1\n",
            "Triangle count: 0\n",
            "Square count: 0\n"
          ]
        },
        {
          "data": {
            "image/png": "[encoded data removed]",
            "text/plain": [
              "<PIL.Image.Image image mode=RGB size=300x300>"
            ]
          },
          "metadata": {},
          "output_type": "display_data"
        },
        {
          "name": "stdout",
          "output_type": "stream",
          "text": [
            "Circle count: 0\n",
            "Triangle count: 0\n",
            "Square count: 1\n"
          ]
        },
        {
          "data": {
            "image/png": "[encoded data removed]",
            "text/plain": [
              "<PIL.Image.Image image mode=RGB size=300x300>"
            ]
          },
          "metadata": {},
          "output_type": "display_data"
        },
        {
          "name": "stdout",
          "output_type": "stream",
          "text": [
            "Circle count: 1\n",
            "Triangle count: 1\n",
            "Square count: 0\n"
          ]
        },
        {
          "data": {
            "image/png": "[encoded data removed]",
            "text/plain": [
              "<PIL.Image.Image image mode=RGB size=300x300>"
            ]
          },
          "metadata": {},
          "output_type": "display_data"
        },
        {
          "name": "stdout",
          "output_type": "stream",
          "text": [
            "Circle count: 0\n",
            "Triangle count: 3\n",
            "Square count: 0\n"
          ]
        },
        {
          "data": {
            "image/png": "[encoded data removed]",
            "text/plain": [
              "<PIL.Image.Image image mode=RGB size=300x300>"
            ]
          },
          "metadata": {},
          "output_type": "display_data"
        },
        {
          "name": "stdout",
          "output_type": "stream",
          "text": [
            "Circle count: 0\n",
            "Triangle count: 0\n",
            "Square count: 1\n"
          ]
        },
        {
          "data": {
            "image/png": "[encoded data removed]",
            "text/plain": [
              "<PIL.Image.Image image mode=RGB size=300x300>"
            ]
          },
          "metadata": {},
          "output_type": "display_data"
        },
        {
          "name": "stdout",
          "output_type": "stream",
          "text": [
            "Circle count: 1\n",
            "Triangle count: 0\n",
            "Square count: 0\n"
          ]
        },
        {
          "data": {
            "image/png": "[encoded data removed]",
            "text/plain": [
              "<PIL.Image.Image image mode=RGB size=300x300>"
            ]
          },
          "metadata": {},
          "output_type": "display_data"
        },
        {
          "name": "stdout",
          "output_type": "stream",
          "text": [
            "Circle count: 1\n",
            "Triangle count: 0\n",
            "Square count: 0\n"
          ]
        },
        {
          "data": {
            "image/png": "[encoded data removed]",
            "text/plain": [
              "<PIL.Image.Image image mode=RGB size=300x300>"
            ]
          },
          "metadata": {},
          "output_type": "display_data"
        },
        {
          "name": "stdout",
          "output_type": "stream",
          "text": [
            "Circle count: 1\n",
            "Triangle count: 0\n",
            "Square count: 0\n"
          ]
        },
        {
          "data": {
            "image/png": "[encoded data removed]",
            "text/plain": [
              "<PIL.Image.Image image mode=RGB size=300x300>"
            ]
          },
          "metadata": {},
          "output_type": "display_data"
        },
        {
          "name": "stdout",
          "output_type": "stream",
          "text": [
            "Circle count: 0\n",
            "Triangle count: 0\n",
            "Square count: 2\n"
          ]
        },
        {
          "data": {
            "image/png": "[encoded data removed]",
            "text/plain": [
              "<PIL.Image.Image image mode=RGB size=300x300>"
            ]
          },
          "metadata": {},
          "output_type": "display_data"
        },
        {
          "name": "stdout",
          "output_type": "stream",
          "text": [
            "Circle count: 2\n",
            "Triangle count: 0\n",
            "Square count: 0\n"
          ]
        },
        {
          "data": {
            "image/png": "[encoded data removed]",
            "text/plain": [
              "<PIL.Image.Image image mode=RGB size=300x300>"
            ]
          },
          "metadata": {},
          "output_type": "display_data"
        },
        {
          "name": "stdout",
          "output_type": "stream",
          "text": [
            "Circle count: 1\n",
            "Triangle count: 0\n",
            "Square count: 0\n"
          ]
        },
        {
          "data": {
            "image/png": "[encoded data removed]",
            "text/plain": [
              "<PIL.Image.Image image mode=RGB size=300x300>"
            ]
          },
          "metadata": {},
          "output_type": "display_data"
        },
        {
          "name": "stdout",
          "output_type": "stream",
          "text": [
            "Circle count: 0\n",
            "Triangle count: 3\n",
            "Square count: 0\n"
          ]
        },
        {
          "data": {
            "image/png": "[encoded data removed]",
            "text/plain": [
              "<PIL.Image.Image image mode=RGB size=300x300>"
            ]
          },
          "metadata": {},
          "output_type": "display_data"
        },
        {
          "name": "stdout",
          "output_type": "stream",
          "text": [
            "Circle count: 0\n",
            "Triangle count: 0\n",
            "Square count: 1\n"
          ]
        },
        {
          "data": {
            "image/png": "[encoded data removed]",
            "text/plain": [
              "<PIL.Image.Image image mode=RGB size=300x300>"
            ]
          },
          "metadata": {},
          "output_type": "display_data"
        },
        {
          "name": "stdout",
          "output_type": "stream",
          "text": [
            "Circle count: 2\n",
            "Triangle count: 1\n",
            "Square count: 0\n"
          ]
        },
        {
          "data": {
            "image/png": "[encoded data removed]",
            "text/plain": [
              "<PIL.Image.Image image mode=RGB size=300x300>"
            ]
          },
          "metadata": {},
          "output_type": "display_data"
        },
        {
          "name": "stdout",
          "output_type": "stream",
          "text": [
            "Circle count: 1\n",
            "Triangle count: 0\n",
            "Square count: 0\n"
          ]
        },
        {
          "data": {
            "image/png": "[encoded data removed]",
            "text/plain": [
              "<PIL.Image.Image image mode=RGB size=300x300>"
            ]
          },
          "metadata": {},
          "output_type": "display_data"
        },
        {
          "name": "stdout",
          "output_type": "stream",
          "text": [
            "Circle count: 0\n",
            "Triangle count: 0\n",
            "Square count: 1\n"
          ]
        },
        {
          "data": {
            "image/png": "[encoded data removed]",
            "text/plain": [
              "<PIL.Image.Image image mode=RGB size=300x300>"
            ]
          },
          "metadata": {},
          "output_type": "display_data"
        },
        {
          "name": "stdout",
          "output_type": "stream",
          "text": [
            "Circle count: 1\n",
            "Triangle count: 0\n",
            "Square count: 0\n"
          ]
        },
        {
          "data": {
            "image/png": "[encoded data removed]",
            "text/plain": [
              "<PIL.Image.Image image mode=RGB size=300x300>"
            ]
          },
          "metadata": {},
          "output_type": "display_data"
        },
        {
          "name": "stdout",
          "output_type": "stream",
          "text": [
            "Circle count: 1\n",
            "Triangle count: 0\n",
            "Square count: 0\n"
          ]
        },
        {
          "data": {
            "image/png": "[encoded data removed]",
            "text/plain": [
              "<PIL.Image.Image image mode=RGB size=300x300>"
            ]
          },
          "metadata": {},
          "output_type": "display_data"
        },
        {
          "name": "stdout",
          "output_type": "stream",
          "text": [
            "Circle count: 1\n",
            "Triangle count: 0\n",
            "Square count: 1\n"
          ]
        },
        {
          "data": {
            "image/png": "[encoded data removed]",
            "text/plain": [
              "<PIL.Image.Image image mode=RGB size=300x300>"
            ]
          },
          "metadata": {},
          "output_type": "display_data"
        },
        {
          "name": "stdout",
          "output_type": "stream",
          "text": [
            "Circle count: 1\n",
            "Triangle count: 0\n",
            "Square count: 0\n"
          ]
        },
        {
          "data": {
            "image/png": "[encoded data removed]",
            "text/plain": [
              "<PIL.Image.Image image mode=RGB size=300x300>"
            ]
          },
          "metadata": {},
          "output_type": "display_data"
        },
        {
          "name": "stdout",
          "output_type": "stream",
          "text": [
            "Circle count: 0\n",
            "Triangle count: 2\n",
            "Square count: 0\n"
          ]
        },
        {
          "data": {
            "image/png": "[encoded data removed]",
            "text/plain": [
              "<PIL.Image.Image image mode=RGB size=300x300>"
            ]
          },
          "metadata": {},
          "output_type": "display_data"
        },
        {
          "name": "stdout",
          "output_type": "stream",
          "text": [
            "Circle count: 1\n",
            "Triangle count: 0\n",
            "Square count: 0\n"
          ]
        },
        {
          "data": {
            "image/png": "[encoded data removed]",
            "text/plain": [
              "<PIL.Image.Image image mode=RGB size=300x300>"
            ]
          },
          "metadata": {},
          "output_type": "display_data"
        },
        {
          "name": "stdout",
          "output_type": "stream",
          "text": [
            "Circle count: 1\n",
            "Triangle count: 1\n",
            "Square count: 1\n"
          ]
        },
        {
          "data": {
            "image/png": "[encoded data removed]",
            "text/plain": [
              "<PIL.Image.Image image mode=RGB size=300x300>"
            ]
          },
          "metadata": {},
          "output_type": "display_data"
        },
        {
          "name": "stdout",
          "output_type": "stream",
          "text": [
            "Circle count: 0\n",
            "Triangle count: 0\n",
            "Square count: 1\n"
          ]
        },
        {
          "data": {
            "image/png": "[encoded data removed]",
            "text/plain": [
              "<PIL.Image.Image image mode=RGB size=300x300>"
            ]
          },
          "metadata": {},
          "output_type": "display_data"
        },
        {
          "name": "stdout",
          "output_type": "stream",
          "text": [
            "Circle count: 2\n",
            "Triangle count: 0\n",
            "Square count: 0\n"
          ]
        },
        {
          "data": {
            "image/png": "[encoded data removed]",
            "text/plain": [
              "<PIL.Image.Image image mode=RGB size=300x300>"
            ]
          },
          "metadata": {},
          "output_type": "display_data"
        },
        {
          "name": "stdout",
          "output_type": "stream",
          "text": [
            "Circle count: 1\n",
            "Triangle count: 1\n",
            "Square count: 0\n"
          ]
        },
        {
          "data": {
            "image/png": "[encoded data removed]",
            "text/plain": [
              "<PIL.Image.Image image mode=RGB size=300x300>"
            ]
          },
          "metadata": {},
          "output_type": "display_data"
        },
        {
          "name": "stdout",
          "output_type": "stream",
          "text": [
            "Circle count: 0\n",
            "Triangle count: 0\n",
            "Square count: 1\n"
          ]
        },
        {
          "data": {
            "image/png": "[encoded data removed]",
            "text/plain": [
              "<PIL.Image.Image image mode=RGB size=300x300>"
            ]
          },
          "metadata": {},
          "output_type": "display_data"
        },
        {
          "name": "stdout",
          "output_type": "stream",
          "text": [
            "Circle count: 1\n",
            "Triangle count: 0\n",
            "Square count: 0\n"
          ]
        },
        {
          "data": {
            "image/png": "[encoded data removed]",
            "text/plain": [
              "<PIL.Image.Image image mode=RGB size=300x300>"
            ]
          },
          "metadata": {},
          "output_type": "display_data"
        },
        {
          "name": "stdout",
          "output_type": "stream",
          "text": [
            "Circle count: 1\n",
            "Triangle count: 0\n",
            "Square count: 0\n"
          ]
        },
        {
          "data": {
            "image/png": "[encoded data removed]",
            "text/plain": [
              "<PIL.Image.Image image mode=RGB size=300x300>"
            ]
          },
          "metadata": {},
          "output_type": "display_data"
        },
        {
          "name": "stdout",
          "output_type": "stream",
          "text": [
            "Circle count: 0\n",
            "Triangle count: 1\n",
            "Square count: 1\n"
          ]
        },
        {
          "data": {
            "image/png": "[encoded data removed]",
            "text/plain": [
              "<PIL.Image.Image image mode=RGB size=300x300>"
            ]
          },
          "metadata": {},
          "output_type": "display_data"
        },
        {
          "name": "stdout",
          "output_type": "stream",
          "text": [
            "Circle count: 1\n",
            "Triangle count: 1\n",
            "Square count: 0\n"
          ]
        },
        {
          "data": {
            "image/png": "[encoded data removed]",
            "text/plain": [
              "<PIL.Image.Image image mode=RGB size=300x300>"
            ]
          },
          "metadata": {},
          "output_type": "display_data"
        },
        {
          "name": "stdout",
          "output_type": "stream",
          "text": [
            "Circle count: 1\n",
            "Triangle count: 2\n",
            "Square count: 0\n"
          ]
        },
        {
          "data": {
            "image/png": "[encoded data removed]",
            "text/plain": [
              "<PIL.Image.Image image mode=RGB size=300x300>"
            ]
          },
          "metadata": {},
          "output_type": "display_data"
        },
        {
          "name": "stdout",
          "output_type": "stream",
          "text": [
            "Circle count: 2\n",
            "Triangle count: 0\n",
            "Square count: 0\n"
          ]
        },
        {
          "data": {
            "image/png": "[encoded data removed]",
            "text/plain": [
              "<PIL.Image.Image image mode=RGB size=300x300>"
            ]
          },
          "metadata": {},
          "output_type": "display_data"
        },
        {
          "name": "stdout",
          "output_type": "stream",
          "text": [
            "Circle count: 1\n",
            "Triangle count: 0\n",
            "Square count: 0\n"
          ]
        },
        {
          "data": {
            "image/png": "[encoded data removed]",
            "text/plain": [
              "<PIL.Image.Image image mode=RGB size=300x300>"
            ]
          },
          "metadata": {},
          "output_type": "display_data"
        },
        {
          "name": "stdout",
          "output_type": "stream",
          "text": [
            "Circle count: 2\n",
            "Triangle count: 0\n",
            "Square count: 0\n"
          ]
        },
        {
          "data": {
            "image/png": "[encoded data removed]",
            "text/plain": [
              "<PIL.Image.Image image mode=RGB size=300x300>"
            ]
          },
          "metadata": {},
          "output_type": "display_data"
        },
        {
          "name": "stdout",
          "output_type": "stream",
          "text": [
            "Circle count: 0\n",
            "Triangle count: 1\n",
            "Square count: 1\n"
          ]
        },
        {
          "data": {
            "image/png": "[encoded data removed]",
            "text/plain": [
              "<PIL.Image.Image image mode=RGB size=300x300>"
            ]
          },
          "metadata": {},
          "output_type": "display_data"
        },
        {
          "name": "stdout",
          "output_type": "stream",
          "text": [
            "Circle count: 1\n",
            "Triangle count: 0\n",
            "Square count: 1\n"
          ]
        },
        {
          "data": {
            "image/png": "[encoded data removed]",
            "text/plain": [
              "<PIL.Image.Image image mode=RGB size=300x300>"
            ]
          },
          "metadata": {},
          "output_type": "display_data"
        },
        {
          "name": "stdout",
          "output_type": "stream",
          "text": [
            "Circle count: 0\n",
            "Triangle count: 0\n",
            "Square count: 1\n"
          ]
        },
        {
          "data": {
            "image/png": "[encoded data removed]",
            "text/plain": [
              "<PIL.Image.Image image mode=RGB size=300x300>"
            ]
          },
          "metadata": {},
          "output_type": "display_data"
        },
        {
          "name": "stdout",
          "output_type": "stream",
          "text": [
            "Circle count: 0\n",
            "Triangle count: 0\n",
            "Square count: 1\n"
          ]
        },
        {
          "data": {
            "image/png": "[encoded data removed]",
            "text/plain": [
              "<PIL.Image.Image image mode=RGB size=300x300>"
            ]
          },
          "metadata": {},
          "output_type": "display_data"
        },
        {
          "name": "stdout",
          "output_type": "stream",
          "text": [
            "Circle count: 0\n",
            "Triangle count: 1\n",
            "Square count: 2\n"
          ]
        },
        {
          "data": {
            "image/png": "[encoded data removed]",
            "text/plain": [
              "<PIL.Image.Image image mode=RGB size=300x300>"
            ]
          },
          "metadata": {},
          "output_type": "display_data"
        },
        {
          "name": "stdout",
          "output_type": "stream",
          "text": [
            "Circle count: 0\n",
            "Triangle count: 0\n",
            "Square count: 2\n"
          ]
        },
        {
          "data": {
            "image/png": "[encoded data removed]",
            "text/plain": [
              "<PIL.Image.Image image mode=RGB size=300x300>"
            ]
          },
          "metadata": {},
          "output_type": "display_data"
        },
        {
          "name": "stdout",
          "output_type": "stream",
          "text": [
            "Circle count: 1\n",
            "Triangle count: 1\n",
            "Square count: 1\n"
          ]
        },
        {
          "data": {
            "image/png": "[encoded data removed]",
            "text/plain": [
              "<PIL.Image.Image image mode=RGB size=300x300>"
            ]
          },
          "metadata": {},
          "output_type": "display_data"
        },
        {
          "name": "stdout",
          "output_type": "stream",
          "text": [
            "Circle count: 2\n",
            "Triangle count: 0\n",
            "Square count: 0\n"
          ]
        },
        {
          "data": {
            "image/png": "[encoded data removed]",
            "text/plain": [
              "<PIL.Image.Image image mode=RGB size=300x300>"
            ]
          },
          "metadata": {},
          "output_type": "display_data"
        },
        {
          "name": "stdout",
          "output_type": "stream",
          "text": [
            "Circle count: 1\n",
            "Triangle count: 0\n",
            "Square count: 0\n"
          ]
        },
        {
          "data": {
            "image/png": "[encoded data removed]",
            "text/plain": [
              "<PIL.Image.Image image mode=RGB size=300x300>"
            ]
          },
          "metadata": {},
          "output_type": "display_data"
        },
        {
          "name": "stdout",
          "output_type": "stream",
          "text": [
            "Circle count: 1\n",
            "Triangle count: 1\n",
            "Square count: 0\n"
          ]
        },
        {
          "data": {
            "image/png": "[encoded data removed]",
            "text/plain": [
              "<PIL.Image.Image image mode=RGB size=300x300>"
            ]
          },
          "metadata": {},
          "output_type": "display_data"
        },
        {
          "name": "stdout",
          "output_type": "stream",
          "text": [
            "Circle count: 0\n",
            "Triangle count: 0\n",
            "Square count: 1\n"
          ]
        },
        {
          "data": {
            "image/png": "[encoded data removed]",
            "text/plain": [
              "<PIL.Image.Image image mode=RGB size=300x300>"
            ]
          },
          "metadata": {},
          "output_type": "display_data"
        },
        {
          "name": "stdout",
          "output_type": "stream",
          "text": [
            "Circle count: 1\n",
            "Triangle count: 0\n",
            "Square count: 0\n"
          ]
        },
        {
          "data": {
            "image/png": "[encoded data removed]",
            "text/plain": [
              "<PIL.Image.Image image mode=RGB size=300x300>"
            ]
          },
          "metadata": {},
          "output_type": "display_data"
        },
        {
          "name": "stdout",
          "output_type": "stream",
          "text": [
            "Circle count: 1\n",
            "Triangle count: 1\n",
            "Square count: 0\n"
          ]
        },
        {
          "data": {
            "image/png": "[encoded data removed]",
            "text/plain": [
              "<PIL.Image.Image image mode=RGB size=300x300>"
            ]
          },
          "metadata": {},
          "output_type": "display_data"
        },
        {
          "name": "stdout",
          "output_type": "stream",
          "text": [
            "Circle count: 1\n",
            "Triangle count: 0\n",
            "Square count: 1\n"
          ]
        },
        {
          "data": {
            "image/png": "[encoded data removed]",
            "text/plain": [
              "<PIL.Image.Image image mode=RGB size=300x300>"
            ]
          },
          "metadata": {},
          "output_type": "display_data"
        },
        {
          "name": "stdout",
          "output_type": "stream",
          "text": [
            "Circle count: 1\n",
            "Triangle count: 0\n",
            "Square count: 0\n"
          ]
        },
        {
          "data": {
            "image/png": "[encoded data removed]",
            "text/plain": [
              "<PIL.Image.Image image mode=RGB size=300x300>"
            ]
          },
          "metadata": {},
          "output_type": "display_data"
        },
        {
          "name": "stdout",
          "output_type": "stream",
          "text": [
            "Circle count: 0\n",
            "Triangle count: 0\n",
            "Square count: 1\n"
          ]
        },
        {
          "data": {
            "image/png": "[encoded data removed]",
            "text/plain": [
              "<PIL.Image.Image image mode=RGB size=300x300>"
            ]
          },
          "metadata": {},
          "output_type": "display_data"
        },
        {
          "name": "stdout",
          "output_type": "stream",
          "text": [
            "Circle count: 0\n",
            "Triangle count: 0\n",
            "Square count: 1\n"
          ]
        },
        {
          "data": {
            "image/png": "[encoded data removed]",
            "text/plain": [
              "<PIL.Image.Image image mode=RGB size=300x300>"
            ]
          },
          "metadata": {},
          "output_type": "display_data"
        },
        {
          "name": "stdout",
          "output_type": "stream",
          "text": [
            "Circle count: 1\n",
            "Triangle count: 0\n",
            "Square count: 0\n"
          ]
        },
        {
          "data": {
            "image/png": "[encoded data removed]",
            "text/plain": [
              "<PIL.Image.Image image mode=RGB size=300x300>"
            ]
          },
          "metadata": {},
          "output_type": "display_data"
        },
        {
          "name": "stdout",
          "output_type": "stream",
          "text": [
            "Circle count: 0\n",
            "Triangle count: 0\n",
            "Square count: 1\n"
          ]
        },
        {
          "data": {
            "image/png": "[encoded data removed]",
            "text/plain": [
              "<PIL.Image.Image image mode=RGB size=300x300>"
            ]
          },
          "metadata": {},
          "output_type": "display_data"
        },
        {
          "name": "stdout",
          "output_type": "stream",
          "text": [
            "Circle count: 1\n",
            "Triangle count: 0\n",
            "Square count: 0\n"
          ]
        },
        {
          "data": {
            "image/png": "[encoded data removed]",
            "text/plain": [
              "<PIL.Image.Image image mode=RGB size=300x300>"
            ]
          },
          "metadata": {},
          "output_type": "display_data"
        },
        {
          "name": "stdout",
          "output_type": "stream",
          "text": [
            "Circle count: 1\n",
            "Triangle count: 0\n",
            "Square count: 1\n"
          ]
        },
        {
          "data": {
            "image/png": "[encoded data removed]",
            "text/plain": [
              "<PIL.Image.Image image mode=RGB size=300x300>"
            ]
          },
          "metadata": {},
          "output_type": "display_data"
        },
        {
          "name": "stdout",
          "output_type": "stream",
          "text": [
            "Circle count: 0\n",
            "Triangle count: 0\n",
            "Square count: 1\n"
          ]
        },
        {
          "data": {
            "image/png": "[encoded data removed]",
            "text/plain": [
              "<PIL.Image.Image image mode=RGB size=300x300>"
            ]
          },
          "metadata": {},
          "output_type": "display_data"
        },
        {
          "name": "stdout",
          "output_type": "stream",
          "text": [
            "Circle count: 0\n",
            "Triangle count: 1\n",
            "Square count: 1\n"
          ]
        },
        {
          "data": {
            "image/png": "[encoded data removed]",
            "text/plain": [
              "<PIL.Image.Image image mode=RGB size=300x300>"
            ]
          },
          "metadata": {},
          "output_type": "display_data"
        },
        {
          "name": "stdout",
          "output_type": "stream",
          "text": [
            "Circle count: 1\n",
            "Triangle count: 1\n",
            "Square count: 1\n"
          ]
        },
        {
          "data": {
            "image/png": "[encoded data removed]",
            "text/plain": [
              "<PIL.Image.Image image mode=RGB size=300x300>"
            ]
          },
          "metadata": {},
          "output_type": "display_data"
        },
        {
          "name": "stdout",
          "output_type": "stream",
          "text": [
            "Circle count: 1\n",
            "Triangle count: 1\n",
            "Square count: 0\n"
          ]
        },
        {
          "data": {
            "image/png": "[encoded data removed]",
            "text/plain": [
              "<PIL.Image.Image image mode=RGB size=300x300>"
            ]
          },
          "metadata": {},
          "output_type": "display_data"
        },
        {
          "name": "stdout",
          "output_type": "stream",
          "text": [
            "Circle count: 2\n",
            "Triangle count: 0\n",
            "Square count: 0\n"
          ]
        },
        {
          "data": {
            "image/png": "[encoded data removed]",
            "text/plain": [
              "<PIL.Image.Image image mode=RGB size=300x300>"
            ]
          },
          "metadata": {},
          "output_type": "display_data"
        },
        {
          "name": "stdout",
          "output_type": "stream",
          "text": [
            "Circle count: 0\n",
            "Triangle count: 2\n",
            "Square count: 0\n"
          ]
        },
        {
          "data": {
            "image/png": "[encoded data removed]",
            "text/plain": [
              "<PIL.Image.Image image mode=RGB size=300x300>"
            ]
          },
          "metadata": {},
          "output_type": "display_data"
        },
        {
          "name": "stdout",
          "output_type": "stream",
          "text": [
            "Circle count: 1\n",
            "Triangle count: 0\n",
            "Square count: 0\n"
          ]
        },
        {
          "data": {
            "image/png": "[encoded data removed]",
            "text/plain": [
              "<PIL.Image.Image image mode=RGB size=300x300>"
            ]
          },
          "metadata": {},
          "output_type": "display_data"
        },
        {
          "name": "stdout",
          "output_type": "stream",
          "text": [
            "Circle count: 1\n",
            "Triangle count: 0\n",
            "Square count: 0\n"
          ]
        },
        {
          "data": {
            "image/png": "[encoded data removed]",
            "text/plain": [
              "<PIL.Image.Image image mode=RGB size=300x300>"
            ]
          },
          "metadata": {},
          "output_type": "display_data"
        },
        {
          "name": "stdout",
          "output_type": "stream",
          "text": [
            "Circle count: 3\n",
            "Triangle count: 1\n",
            "Square count: 0\n"
          ]
        },
        {
          "data": {
            "image/png": "[encoded data removed]",
            "text/plain": [
              "<PIL.Image.Image image mode=RGB size=300x300>"
            ]
          },
          "metadata": {},
          "output_type": "display_data"
        },
        {
          "name": "stdout",
          "output_type": "stream",
          "text": [
            "Circle count: 0\n",
            "Triangle count: 0\n",
            "Square count: 1\n"
          ]
        },
        {
          "data": {
            "image/png": "[encoded data removed]",
            "text/plain": [
              "<PIL.Image.Image image mode=RGB size=300x300>"
            ]
          },
          "metadata": {},
          "output_type": "display_data"
        },
        {
          "name": "stdout",
          "output_type": "stream",
          "text": [
            "Circle count: 1\n",
            "Triangle count: 1\n",
            "Square count: 0\n"
          ]
        },
        {
          "data": {
            "image/png": "[encoded data removed]",
            "text/plain": [
              "<PIL.Image.Image image mode=RGB size=300x300>"
            ]
          },
          "metadata": {},
          "output_type": "display_data"
        },
        {
          "name": "stdout",
          "output_type": "stream",
          "text": [
            "Circle count: 1\n",
            "Triangle count: 0\n",
            "Square count: 0\n"
          ]
        },
        {
          "data": {
            "image/png": "[encoded data removed]",
            "text/plain": [
              "<PIL.Image.Image image mode=RGB size=300x300>"
            ]
          },
          "metadata": {},
          "output_type": "display_data"
        },
        {
          "name": "stdout",
          "output_type": "stream",
          "text": [
            "Circle count: 1\n",
            "Triangle count: 0\n",
            "Square count: 1\n"
          ]
        },
        {
          "data": {
            "image/png": "[encoded data removed]",
            "text/plain": [
              "<PIL.Image.Image image mode=RGB size=300x300>"
            ]
          },
          "metadata": {},
          "output_type": "display_data"
        },
        {
          "name": "stdout",
          "output_type": "stream",
          "text": [
            "Circle count: 1\n",
            "Triangle count: 1\n",
            "Square count: 0\n"
          ]
        },
        {
          "data": {
            "image/png": "[encoded data removed]",
            "text/plain": [
              "<PIL.Image.Image image mode=RGB size=300x300>"
            ]
          },
          "metadata": {},
          "output_type": "display_data"
        },
        {
          "name": "stdout",
          "output_type": "stream",
          "text": [
            "Circle count: 0\n",
            "Triangle count: 2\n",
            "Square count: 0\n"
          ]
        },
        {
          "data": {
            "image/png": "[encoded data removed]",
            "text/plain": [
              "<PIL.Image.Image image mode=RGB size=300x300>"
            ]
          },
          "metadata": {},
          "output_type": "display_data"
        },
        {
          "name": "stdout",
          "output_type": "stream",
          "text": [
            "Circle count: 1\n",
            "Triangle count: 0\n",
            "Square count: 0\n"
          ]
        },
        {
          "data": {
            "image/png": "[encoded data removed]",
            "text/plain": [
              "<PIL.Image.Image image mode=RGB size=300x300>"
            ]
          },
          "metadata": {},
          "output_type": "display_data"
        },
        {
          "name": "stdout",
          "output_type": "stream",
          "text": [
            "Circle count: 1\n",
            "Triangle count: 0\n",
            "Square count: 1\n"
          ]
        },
        {
          "data": {
            "image/png": "[encoded data removed]",
            "text/plain": [
              "<PIL.Image.Image image mode=RGB size=300x300>"
            ]
          },
          "metadata": {},
          "output_type": "display_data"
        },
        {
          "name": "stdout",
          "output_type": "stream",
          "text": [
            "Circle count: 0\n",
            "Triangle count: 1\n",
            "Square count: 1\n"
          ]
        },
        {
          "data": {
            "image/png": "[encoded data removed]",
            "text/plain": [
              "<PIL.Image.Image image mode=RGB size=300x300>"
            ]
          },
          "metadata": {},
          "output_type": "display_data"
        },
        {
          "name": "stdout",
          "output_type": "stream",
          "text": [
            "Circle count: 1\n",
            "Triangle count: 0\n",
            "Square count: 0\n"
          ]
        },
        {
          "data": {
            "image/png": "[encoded data removed]",
            "text/plain": [
              "<PIL.Image.Image image mode=RGB size=300x300>"
            ]
          },
          "metadata": {},
          "output_type": "display_data"
        },
        {
          "name": "stdout",
          "output_type": "stream",
          "text": [
            "Circle count: 0\n",
            "Triangle count: 1\n",
            "Square count: 1\n"
          ]
        },
        {
          "data": {
            "image/png": "[encoded data removed]",
            "text/plain": [
              "<PIL.Image.Image image mode=RGB size=300x300>"
            ]
          },
          "metadata": {},
          "output_type": "display_data"
        },
        {
          "name": "stdout",
          "output_type": "stream",
          "text": [
            "Circle count: 1\n",
            "Triangle count: 0\n",
            "Square count: 0\n"
          ]
        },
        {
          "data": {
            "image/png": "[encoded data removed]",
            "text/plain": [
              "<PIL.Image.Image image mode=RGB size=300x300>"
            ]
          },
          "metadata": {},
          "output_type": "display_data"
        },
        {
          "name": "stdout",
          "output_type": "stream",
          "text": [
            "Circle count: 0\n",
            "Triangle count: 1\n",
            "Square count: 1\n"
          ]
        },
        {
          "data": {
            "image/png": "[encoded data removed]",
            "text/plain": [
              "<PIL.Image.Image image mode=RGB size=300x300>"
            ]
          },
          "metadata": {},
          "output_type": "display_data"
        },
        {
          "name": "stdout",
          "output_type": "stream",
          "text": [
            "Circle count: 1\n",
            "Triangle count: 1\n",
            "Square count: 0\n"
          ]
        },
        {
          "data": {
            "image/png": "[encoded data removed]",
            "text/plain": [
              "<PIL.Image.Image image mode=RGB size=300x300>"
            ]
          },
          "metadata": {},
          "output_type": "display_data"
        },
        {
          "name": "stdout",
          "output_type": "stream",
          "text": [
            "Circle count: 1\n",
            "Triangle count: 0\n",
            "Square count: 0\n",
            "\n",
            "accuarcy : 0.0\n"
          ]
        }
      ],
      "source": [
        "# Path to the JSON file in Google Drive\n",
        "json_file_path = '/content/drive/My Drive/shape_data/images/ground_truth_mapping.json'\n",
        "\n",
        "# Load ground truth data from JSON file\n",
        "ground_truth = load_ground_truth(json_file_path)\n",
        "total_images = len(ground_truth)\n",
        "correct_predictions = 0\n",
        "\n",
        "# Iterate over each file in the folder\n",
        "for file_name in file_names:\n",
        "    # Construct the full path to the image file\n",
        "    file_path = os.path.join(folder_path, file_name)\n",
        "\n",
        "    # Check if the file is an image (you may want to add additional checks here)\n",
        "    if file_name.lower().endswith('.png'):\n",
        "        # Read the image using OpenCV\n",
        "        image = cv2.imread(file_path)\n",
        "\n",
        "        # Display the image (optional)\n",
        "        if image is not None:\n",
        "            cv2_imshow(image)\n",
        "            # cv2.imshow(\"Image\", image)\n",
        "            cv2.waitKey(0)\n",
        "            cv2.destroyAllWindows()\n",
        "        else:\n",
        "            print(f\"Failed to read the image: {file_name}\")\n",
        "\n",
        "        # Detect shapes\n",
        "        circle_count, triangle_count, square_count = detect_shapes(image)\n",
        "        if (circle_count, triangle_count, square_count) == ground_truth[file_name]:\n",
        "          correct_predictions += 1\n",
        "\n",
        "        # Print the counts\n",
        "        print(\"Circle count:\", circle_count)\n",
        "        print(\"Triangle count:\", triangle_count)\n",
        "        print(\"Square count:\", square_count)\n",
        "\n",
        "# Evaluate performance\n",
        "accuracy = correct_predictions / total_images\n",
        "\n",
        "print(\"\")\n",
        "print('accuarcy :', accuracy)\n"
      ]
    },
    {
      "cell_type": "markdown",
      "metadata": {
        "id": "1WErlP46OhhD"
      },
      "source": [
        "comments:\n",
        "\n",
        "this method is unable to handle overlapping shapes and will automatically consider overlapping shapes as circles due to the sentinel condition of \"6 or more vertices=circle\"\n",
        "\n",
        "the accuracy displays as 0 as i am unable to troubleshoot my error of not being able to count the number of matching anotations between my predicted ones and the truth anotation provided\n",
        "\n",
        "however, by bruteforce counting, i calculated an accuracy of 29/99 or 29.2%."
      ]
    },
    {
      "cell_type": "markdown",
      "metadata": {
        "id": "eI-srtRjQ33s"
      },
      "source": [
        "# trying out another method"
      ]
    },
    {
      "cell_type": "code",
      "execution_count": 64,
      "metadata": {
        "id": "Xmr_dLfuUoyJ"
      },
      "outputs": [],
      "source": [
        "def detect_shapes_v2(image):\n",
        "    # Convert image to grayscale\n",
        "    gray = cv2.cvtColor(image, cv2.COLOR_BGR2GRAY)\n",
        "\n",
        "    # Apply GaussianBlur to reduce noise\n",
        "    blurred = cv2.GaussianBlur(gray, (5, 5), 0)\n",
        "\n",
        "    # Threshold the image to obtain binary image\n",
        "    _, thresh = cv2.threshold(blurred, 200, 255, cv2.THRESH_BINARY)\n",
        "\n",
        "    # Find contours in the binary image\n",
        "    contours, _ = cv2.findContours(thresh, cv2.RETR_EXTERNAL, cv2.CHAIN_APPROX_SIMPLE)\n",
        "\n",
        "    circle_count = 0\n",
        "    triangle_count = 0\n",
        "    square_count = 0\n",
        "\n",
        "    # list for storing names of shapes\n",
        "    for contour in contours:\n",
        "\n",
        "        # cv2.approxPloyDP() function to approximate the shape\n",
        "        approx = cv2.approxPolyDP(\n",
        "        contour, 0.01 * cv2.arcLength(contour, True), True)\n",
        "\n",
        "\n",
        "        # counting the shapes for each image\n",
        "        if len(approx) == 3:\n",
        "          triangle_count += 1\n",
        "\n",
        "        elif len(approx) == 4:\n",
        "          square_count += 1\n",
        "\n",
        "        else:\n",
        "          circle_count += 1\n",
        "\n",
        "    return circle_count, triangle_count, square_count"
      ]
    },
    {
      "cell_type": "code",
      "execution_count": 65,
      "metadata": {
        "colab": {
          "base_uri": "https://localhost:8080/",
          "height": 1000
        },
        "id": "OB8Q68gKQ9Ga",
        "outputId": "e20264b0-4290-4848-efe0-cef176e22b90"
      },
      "outputs": [
        {
          "data": {
            "image/png": "[encoded data removed]",
            "text/plain": [
              "<PIL.Image.Image image mode=RGB size=300x300>"
            ]
          },
          "metadata": {},
          "output_type": "display_data"
        },
        {
          "name": "stdout",
          "output_type": "stream",
          "text": [
            "Circle count: 1\n",
            "Triangle count: 1\n",
            "Square count: 0\n"
          ]
        },
        {
          "data": {
            "image/png": "[encoded data removed]",
            "text/plain": [
              "<PIL.Image.Image image mode=RGB size=300x300>"
            ]
          },
          "metadata": {},
          "output_type": "display_data"
        },
        {
          "name": "stdout",
          "output_type": "stream",
          "text": [
            "Circle count: 1\n",
            "Triangle count: 0\n",
            "Square count: 1\n"
          ]
        },
        {
          "data": {
            "image/png": "[encoded data removed]",
            "text/plain": [
              "<PIL.Image.Image image mode=RGB size=300x300>"
            ]
          },
          "metadata": {},
          "output_type": "display_data"
        },
        {
          "name": "stdout",
          "output_type": "stream",
          "text": [
            "Circle count: 1\n",
            "Triangle count: 0\n",
            "Square count: 1\n"
          ]
        },
        {
          "data": {
            "image/png": "[encoded data removed]",
            "text/plain": [
              "<PIL.Image.Image image mode=RGB size=300x300>"
            ]
          },
          "metadata": {},
          "output_type": "display_data"
        },
        {
          "name": "stdout",
          "output_type": "stream",
          "text": [
            "Circle count: 0\n",
            "Triangle count: 0\n",
            "Square count: 2\n"
          ]
        },
        {
          "data": {
            "image/png": "[encoded data removed]",
            "text/plain": [
              "<PIL.Image.Image image mode=RGB size=300x300>"
            ]
          },
          "metadata": {},
          "output_type": "display_data"
        },
        {
          "name": "stdout",
          "output_type": "stream",
          "text": [
            "Circle count: 1\n",
            "Triangle count: 0\n",
            "Square count: 0\n"
          ]
        },
        {
          "data": {
            "image/png": "[encoded data removed]",
            "text/plain": [
              "<PIL.Image.Image image mode=RGB size=300x300>"
            ]
          },
          "metadata": {},
          "output_type": "display_data"
        },
        {
          "name": "stdout",
          "output_type": "stream",
          "text": [
            "Circle count: 2\n",
            "Triangle count: 1\n",
            "Square count: 0\n"
          ]
        },
        {
          "data": {
            "image/png": "[encoded data removed]",
            "text/plain": [
              "<PIL.Image.Image image mode=RGB size=300x300>"
            ]
          },
          "metadata": {},
          "output_type": "display_data"
        },
        {
          "name": "stdout",
          "output_type": "stream",
          "text": [
            "Circle count: 1\n",
            "Triangle count: 1\n",
            "Square count: 0\n"
          ]
        },
        {
          "data": {
            "image/png": "[encoded data removed]",
            "text/plain": [
              "<PIL.Image.Image image mode=RGB size=300x300>"
            ]
          },
          "metadata": {},
          "output_type": "display_data"
        },
        {
          "name": "stdout",
          "output_type": "stream",
          "text": [
            "Circle count: 2\n",
            "Triangle count: 0\n",
            "Square count: 0\n"
          ]
        },
        {
          "data": {
            "image/png": "[encoded data removed]",
            "text/plain": [
              "<PIL.Image.Image image mode=RGB size=300x300>"
            ]
          },
          "metadata": {},
          "output_type": "display_data"
        },
        {
          "name": "stdout",
          "output_type": "stream",
          "text": [
            "Circle count: 1\n",
            "Triangle count: 0\n",
            "Square count: 1\n"
          ]
        },
        {
          "data": {
            "image/png": "[encoded data removed]",
            "text/plain": [
              "<PIL.Image.Image image mode=RGB size=300x300>"
            ]
          },
          "metadata": {},
          "output_type": "display_data"
        },
        {
          "name": "stdout",
          "output_type": "stream",
          "text": [
            "Circle count: 0\n",
            "Triangle count: 0\n",
            "Square count: 1\n"
          ]
        },
        {
          "data": {
            "image/png": "[encoded data removed]",
            "text/plain": [
              "<PIL.Image.Image image mode=RGB size=300x300>"
            ]
          },
          "metadata": {},
          "output_type": "display_data"
        },
        {
          "name": "stdout",
          "output_type": "stream",
          "text": [
            "Circle count: 1\n",
            "Triangle count: 0\n",
            "Square count: 0\n"
          ]
        },
        {
          "data": {
            "image/png": "[encoded data removed]",
            "text/plain": [
              "<PIL.Image.Image image mode=RGB size=300x300>"
            ]
          },
          "metadata": {},
          "output_type": "display_data"
        },
        {
          "name": "stdout",
          "output_type": "stream",
          "text": [
            "Circle count: 1\n",
            "Triangle count: 0\n",
            "Square count: 0\n"
          ]
        },
        {
          "data": {
            "image/png": "[encoded data removed]",
            "text/plain": [
              "<PIL.Image.Image image mode=RGB size=300x300>"
            ]
          },
          "metadata": {},
          "output_type": "display_data"
        },
        {
          "name": "stdout",
          "output_type": "stream",
          "text": [
            "Circle count: 1\n",
            "Triangle count: 0\n",
            "Square count: 0\n"
          ]
        },
        {
          "data": {
            "image/png": "[encoded data removed]",
            "text/plain": [
              "<PIL.Image.Image image mode=RGB size=300x300>"
            ]
          },
          "metadata": {},
          "output_type": "display_data"
        },
        {
          "name": "stdout",
          "output_type": "stream",
          "text": [
            "Circle count: 2\n",
            "Triangle count: 0\n",
            "Square count: 0\n"
          ]
        },
        {
          "data": {
            "image/png": "[encoded data removed]",
            "text/plain": [
              "<PIL.Image.Image image mode=RGB size=300x300>"
            ]
          },
          "metadata": {},
          "output_type": "display_data"
        },
        {
          "name": "stdout",
          "output_type": "stream",
          "text": [
            "Circle count: 1\n",
            "Triangle count: 0\n",
            "Square count: 0\n"
          ]
        },
        {
          "data": {
            "image/png": "[encoded data removed]",
            "text/plain": [
              "<PIL.Image.Image image mode=RGB size=300x300>"
            ]
          },
          "metadata": {},
          "output_type": "display_data"
        },
        {
          "name": "stdout",
          "output_type": "stream",
          "text": [
            "Circle count: 1\n",
            "Triangle count: 0\n",
            "Square count: 0\n"
          ]
        },
        {
          "data": {
            "image/png": "[encoded data removed]",
            "text/plain": [
              "<PIL.Image.Image image mode=RGB size=300x300>"
            ]
          },
          "metadata": {},
          "output_type": "display_data"
        },
        {
          "name": "stdout",
          "output_type": "stream",
          "text": [
            "Circle count: 1\n",
            "Triangle count: 0\n",
            "Square count: 0\n"
          ]
        },
        {
          "data": {
            "image/png": "[encoded data removed]",
            "text/plain": [
              "<PIL.Image.Image image mode=RGB size=300x300>"
            ]
          },
          "metadata": {},
          "output_type": "display_data"
        },
        {
          "name": "stdout",
          "output_type": "stream",
          "text": [
            "Circle count: 2\n",
            "Triangle count: 0\n",
            "Square count: 0\n"
          ]
        },
        {
          "data": {
            "image/png": "[encoded data removed]",
            "text/plain": [
              "<PIL.Image.Image image mode=RGB size=300x300>"
            ]
          },
          "metadata": {},
          "output_type": "display_data"
        },
        {
          "name": "stdout",
          "output_type": "stream",
          "text": [
            "Circle count: 1\n",
            "Triangle count: 0\n",
            "Square count: 0\n"
          ]
        },
        {
          "data": {
            "image/png": "[encoded data removed]",
            "text/plain": [
              "<PIL.Image.Image image mode=RGB size=300x300>"
            ]
          },
          "metadata": {},
          "output_type": "display_data"
        },
        {
          "name": "stdout",
          "output_type": "stream",
          "text": [
            "Circle count: 0\n",
            "Triangle count: 0\n",
            "Square count: 1\n"
          ]
        },
        {
          "data": {
            "image/png": "[encoded data removed]",
            "text/plain": [
              "<PIL.Image.Image image mode=RGB size=300x300>"
            ]
          },
          "metadata": {},
          "output_type": "display_data"
        },
        {
          "name": "stdout",
          "output_type": "stream",
          "text": [
            "Circle count: 1\n",
            "Triangle count: 0\n",
            "Square count: 0\n"
          ]
        },
        {
          "data": {
            "image/png": "[encoded data removed]",
            "text/plain": [
              "<PIL.Image.Image image mode=RGB size=300x300>"
            ]
          },
          "metadata": {},
          "output_type": "display_data"
        },
        {
          "name": "stdout",
          "output_type": "stream",
          "text": [
            "Circle count: 1\n",
            "Triangle count: 0\n",
            "Square count: 0\n"
          ]
        },
        {
          "data": {
            "image/png": "[encoded data removed]",
            "text/plain": [
              "<PIL.Image.Image image mode=RGB size=300x300>"
            ]
          },
          "metadata": {},
          "output_type": "display_data"
        },
        {
          "name": "stdout",
          "output_type": "stream",
          "text": [
            "Circle count: 1\n",
            "Triangle count: 1\n",
            "Square count: 0\n"
          ]
        },
        {
          "data": {
            "image/png": "[encoded data removed]",
            "text/plain": [
              "<PIL.Image.Image image mode=RGB size=300x300>"
            ]
          },
          "metadata": {},
          "output_type": "display_data"
        },
        {
          "name": "stdout",
          "output_type": "stream",
          "text": [
            "Circle count: 0\n",
            "Triangle count: 3\n",
            "Square count: 0\n"
          ]
        },
        {
          "data": {
            "image/png": "[encoded data removed]",
            "text/plain": [
              "<PIL.Image.Image image mode=RGB size=300x300>"
            ]
          },
          "metadata": {},
          "output_type": "display_data"
        },
        {
          "name": "stdout",
          "output_type": "stream",
          "text": [
            "Circle count: 1\n",
            "Triangle count: 0\n",
            "Square count: 0\n"
          ]
        },
        {
          "data": {
            "image/png": "[encoded data removed]",
            "text/plain": [
              "<PIL.Image.Image image mode=RGB size=300x300>"
            ]
          },
          "metadata": {},
          "output_type": "display_data"
        },
        {
          "name": "stdout",
          "output_type": "stream",
          "text": [
            "Circle count: 1\n",
            "Triangle count: 0\n",
            "Square count: 0\n"
          ]
        },
        {
          "data": {
            "image/png": "[encoded data removed]",
            "text/plain": [
              "<PIL.Image.Image image mode=RGB size=300x300>"
            ]
          },
          "metadata": {},
          "output_type": "display_data"
        },
        {
          "name": "stdout",
          "output_type": "stream",
          "text": [
            "Circle count: 1\n",
            "Triangle count: 0\n",
            "Square count: 0\n"
          ]
        },
        {
          "data": {
            "image/png": "[encoded data removed]",
            "text/plain": [
              "<PIL.Image.Image image mode=RGB size=300x300>"
            ]
          },
          "metadata": {},
          "output_type": "display_data"
        },
        {
          "name": "stdout",
          "output_type": "stream",
          "text": [
            "Circle count: 1\n",
            "Triangle count: 0\n",
            "Square count: 0\n"
          ]
        },
        {
          "data": {
            "image/png": "[encoded data removed]",
            "text/plain": [
              "<PIL.Image.Image image mode=RGB size=300x300>"
            ]
          },
          "metadata": {},
          "output_type": "display_data"
        },
        {
          "name": "stdout",
          "output_type": "stream",
          "text": [
            "Circle count: 2\n",
            "Triangle count: 0\n",
            "Square count: 0\n"
          ]
        },
        {
          "data": {
            "image/png": "[encoded data removed]",
            "text/plain": [
              "<PIL.Image.Image image mode=RGB size=300x300>"
            ]
          },
          "metadata": {},
          "output_type": "display_data"
        },
        {
          "name": "stdout",
          "output_type": "stream",
          "text": [
            "Circle count: 2\n",
            "Triangle count: 0\n",
            "Square count: 0\n"
          ]
        },
        {
          "data": {
            "image/png": "[encoded data removed]",
            "text/plain": [
              "<PIL.Image.Image image mode=RGB size=300x300>"
            ]
          },
          "metadata": {},
          "output_type": "display_data"
        },
        {
          "name": "stdout",
          "output_type": "stream",
          "text": [
            "Circle count: 1\n",
            "Triangle count: 0\n",
            "Square count: 0\n"
          ]
        },
        {
          "data": {
            "image/png": "[encoded data removed]",
            "text/plain": [
              "<PIL.Image.Image image mode=RGB size=300x300>"
            ]
          },
          "metadata": {},
          "output_type": "display_data"
        },
        {
          "name": "stdout",
          "output_type": "stream",
          "text": [
            "Circle count: 1\n",
            "Triangle count: 2\n",
            "Square count: 0\n"
          ]
        },
        {
          "data": {
            "image/png": "[encoded data removed]",
            "text/plain": [
              "<PIL.Image.Image image mode=RGB size=300x300>"
            ]
          },
          "metadata": {},
          "output_type": "display_data"
        },
        {
          "name": "stdout",
          "output_type": "stream",
          "text": [
            "Circle count: 1\n",
            "Triangle count: 0\n",
            "Square count: 0\n"
          ]
        },
        {
          "data": {
            "image/png": "[encoded data removed]",
            "text/plain": [
              "<PIL.Image.Image image mode=RGB size=300x300>"
            ]
          },
          "metadata": {},
          "output_type": "display_data"
        },
        {
          "name": "stdout",
          "output_type": "stream",
          "text": [
            "Circle count: 2\n",
            "Triangle count: 1\n",
            "Square count: 0\n"
          ]
        },
        {
          "data": {
            "image/png": "[encoded data removed]",
            "text/plain": [
              "<PIL.Image.Image image mode=RGB size=300x300>"
            ]
          },
          "metadata": {},
          "output_type": "display_data"
        },
        {
          "name": "stdout",
          "output_type": "stream",
          "text": [
            "Circle count: 1\n",
            "Triangle count: 0\n",
            "Square count: 0\n"
          ]
        },
        {
          "data": {
            "image/png": "[encoded data removed]",
            "text/plain": [
              "<PIL.Image.Image image mode=RGB size=300x300>"
            ]
          },
          "metadata": {},
          "output_type": "display_data"
        },
        {
          "name": "stdout",
          "output_type": "stream",
          "text": [
            "Circle count: 1\n",
            "Triangle count: 0\n",
            "Square count: 0\n"
          ]
        },
        {
          "data": {
            "image/png": "[encoded data removed]",
            "text/plain": [
              "<PIL.Image.Image image mode=RGB size=300x300>"
            ]
          },
          "metadata": {},
          "output_type": "display_data"
        },
        {
          "name": "stdout",
          "output_type": "stream",
          "text": [
            "Circle count: 1\n",
            "Triangle count: 0\n",
            "Square count: 0\n"
          ]
        },
        {
          "data": {
            "image/png": "[encoded data removed]",
            "text/plain": [
              "<PIL.Image.Image image mode=RGB size=300x300>"
            ]
          },
          "metadata": {},
          "output_type": "display_data"
        },
        {
          "name": "stdout",
          "output_type": "stream",
          "text": [
            "Circle count: 1\n",
            "Triangle count: 0\n",
            "Square count: 0\n"
          ]
        },
        {
          "data": {
            "image/png": "[encoded data removed]",
            "text/plain": [
              "<PIL.Image.Image image mode=RGB size=300x300>"
            ]
          },
          "metadata": {},
          "output_type": "display_data"
        },
        {
          "name": "stdout",
          "output_type": "stream",
          "text": [
            "Circle count: 1\n",
            "Triangle count: 0\n",
            "Square count: 1\n"
          ]
        },
        {
          "data": {
            "image/png": "[encoded data removed]",
            "text/plain": [
              "<PIL.Image.Image image mode=RGB size=300x300>"
            ]
          },
          "metadata": {},
          "output_type": "display_data"
        },
        {
          "name": "stdout",
          "output_type": "stream",
          "text": [
            "Circle count: 1\n",
            "Triangle count: 0\n",
            "Square count: 0\n"
          ]
        },
        {
          "data": {
            "image/png": "[encoded data removed]",
            "text/plain": [
              "<PIL.Image.Image image mode=RGB size=300x300>"
            ]
          },
          "metadata": {},
          "output_type": "display_data"
        },
        {
          "name": "stdout",
          "output_type": "stream",
          "text": [
            "Circle count: 0\n",
            "Triangle count: 1\n",
            "Square count: 1\n"
          ]
        },
        {
          "data": {
            "image/png": "[encoded data removed]",
            "text/plain": [
              "<PIL.Image.Image image mode=RGB size=300x300>"
            ]
          },
          "metadata": {},
          "output_type": "display_data"
        },
        {
          "name": "stdout",
          "output_type": "stream",
          "text": [
            "Circle count: 1\n",
            "Triangle count: 0\n",
            "Square count: 0\n"
          ]
        },
        {
          "data": {
            "image/png": "[encoded data removed]",
            "text/plain": [
              "<PIL.Image.Image image mode=RGB size=300x300>"
            ]
          },
          "metadata": {},
          "output_type": "display_data"
        },
        {
          "name": "stdout",
          "output_type": "stream",
          "text": [
            "Circle count: 1\n",
            "Triangle count: 1\n",
            "Square count: 1\n"
          ]
        },
        {
          "data": {
            "image/png": "[encoded data removed]",
            "text/plain": [
              "<PIL.Image.Image image mode=RGB size=300x300>"
            ]
          },
          "metadata": {},
          "output_type": "display_data"
        },
        {
          "name": "stdout",
          "output_type": "stream",
          "text": [
            "Circle count: 1\n",
            "Triangle count: 0\n",
            "Square count: 0\n"
          ]
        },
        {
          "data": {
            "image/png": "[encoded data removed]",
            "text/plain": [
              "<PIL.Image.Image image mode=RGB size=300x300>"
            ]
          },
          "metadata": {},
          "output_type": "display_data"
        },
        {
          "name": "stdout",
          "output_type": "stream",
          "text": [
            "Circle count: 2\n",
            "Triangle count: 0\n",
            "Square count: 0\n"
          ]
        },
        {
          "data": {
            "image/png": "[encoded data removed]",
            "text/plain": [
              "<PIL.Image.Image image mode=RGB size=300x300>"
            ]
          },
          "metadata": {},
          "output_type": "display_data"
        },
        {
          "name": "stdout",
          "output_type": "stream",
          "text": [
            "Circle count: 1\n",
            "Triangle count: 1\n",
            "Square count: 0\n"
          ]
        },
        {
          "data": {
            "image/png": "[encoded data removed]",
            "text/plain": [
              "<PIL.Image.Image image mode=RGB size=300x300>"
            ]
          },
          "metadata": {},
          "output_type": "display_data"
        },
        {
          "name": "stdout",
          "output_type": "stream",
          "text": [
            "Circle count: 0\n",
            "Triangle count: 0\n",
            "Square count: 1\n"
          ]
        },
        {
          "data": {
            "image/png": "[encoded data removed]",
            "text/plain": [
              "<PIL.Image.Image image mode=RGB size=300x300>"
            ]
          },
          "metadata": {},
          "output_type": "display_data"
        },
        {
          "name": "stdout",
          "output_type": "stream",
          "text": [
            "Circle count: 1\n",
            "Triangle count: 0\n",
            "Square count: 0\n"
          ]
        },
        {
          "data": {
            "image/png": "[encoded data removed]",
            "text/plain": [
              "<PIL.Image.Image image mode=RGB size=300x300>"
            ]
          },
          "metadata": {},
          "output_type": "display_data"
        },
        {
          "name": "stdout",
          "output_type": "stream",
          "text": [
            "Circle count: 1\n",
            "Triangle count: 0\n",
            "Square count: 0\n"
          ]
        },
        {
          "data": {
            "image/png": "[encoded data removed]",
            "text/plain": [
              "<PIL.Image.Image image mode=RGB size=300x300>"
            ]
          },
          "metadata": {},
          "output_type": "display_data"
        },
        {
          "name": "stdout",
          "output_type": "stream",
          "text": [
            "Circle count: 1\n",
            "Triangle count: 1\n",
            "Square count: 0\n"
          ]
        },
        {
          "data": {
            "image/png": "[encoded data removed]",
            "text/plain": [
              "<PIL.Image.Image image mode=RGB size=300x300>"
            ]
          },
          "metadata": {},
          "output_type": "display_data"
        },
        {
          "name": "stdout",
          "output_type": "stream",
          "text": [
            "Circle count: 2\n",
            "Triangle count: 0\n",
            "Square count: 0\n"
          ]
        },
        {
          "data": {
            "image/png": "[encoded data removed]",
            "text/plain": [
              "<PIL.Image.Image image mode=RGB size=300x300>"
            ]
          },
          "metadata": {},
          "output_type": "display_data"
        },
        {
          "name": "stdout",
          "output_type": "stream",
          "text": [
            "Circle count: 2\n",
            "Triangle count: 1\n",
            "Square count: 0\n"
          ]
        },
        {
          "data": {
            "image/png": "[encoded data removed]",
            "text/plain": [
              "<PIL.Image.Image image mode=RGB size=300x300>"
            ]
          },
          "metadata": {},
          "output_type": "display_data"
        },
        {
          "name": "stdout",
          "output_type": "stream",
          "text": [
            "Circle count: 2\n",
            "Triangle count: 0\n",
            "Square count: 0\n"
          ]
        },
        {
          "data": {
            "image/png": "[encoded data removed]",
            "text/plain": [
              "<PIL.Image.Image image mode=RGB size=300x300>"
            ]
          },
          "metadata": {},
          "output_type": "display_data"
        },
        {
          "name": "stdout",
          "output_type": "stream",
          "text": [
            "Circle count: 1\n",
            "Triangle count: 0\n",
            "Square count: 0\n"
          ]
        },
        {
          "data": {
            "image/png": "[encoded data removed]",
            "text/plain": [
              "<PIL.Image.Image image mode=RGB size=300x300>"
            ]
          },
          "metadata": {},
          "output_type": "display_data"
        },
        {
          "name": "stdout",
          "output_type": "stream",
          "text": [
            "Circle count: 2\n",
            "Triangle count: 0\n",
            "Square count: 0\n"
          ]
        },
        {
          "data": {
            "image/png": "[encoded data removed]",
            "text/plain": [
              "<PIL.Image.Image image mode=RGB size=300x300>"
            ]
          },
          "metadata": {},
          "output_type": "display_data"
        },
        {
          "name": "stdout",
          "output_type": "stream",
          "text": [
            "Circle count: 0\n",
            "Triangle count: 1\n",
            "Square count: 1\n"
          ]
        },
        {
          "data": {
            "image/png": "[encoded data removed]",
            "text/plain": [
              "<PIL.Image.Image image mode=RGB size=300x300>"
            ]
          },
          "metadata": {},
          "output_type": "display_data"
        },
        {
          "name": "stdout",
          "output_type": "stream",
          "text": [
            "Circle count: 1\n",
            "Triangle count: 0\n",
            "Square count: 1\n"
          ]
        },
        {
          "data": {
            "image/png": "[encoded data removed]",
            "text/plain": [
              "<PIL.Image.Image image mode=RGB size=300x300>"
            ]
          },
          "metadata": {},
          "output_type": "display_data"
        },
        {
          "name": "stdout",
          "output_type": "stream",
          "text": [
            "Circle count: 1\n",
            "Triangle count: 0\n",
            "Square count: 0\n"
          ]
        },
        {
          "data": {
            "image/png": "[encoded data removed]",
            "text/plain": [
              "<PIL.Image.Image image mode=RGB size=300x300>"
            ]
          },
          "metadata": {},
          "output_type": "display_data"
        },
        {
          "name": "stdout",
          "output_type": "stream",
          "text": [
            "Circle count: 0\n",
            "Triangle count: 0\n",
            "Square count: 1\n"
          ]
        },
        {
          "data": {
            "image/png": "[encoded data removed]",
            "text/plain": [
              "<PIL.Image.Image image mode=RGB size=300x300>"
            ]
          },
          "metadata": {},
          "output_type": "display_data"
        },
        {
          "name": "stdout",
          "output_type": "stream",
          "text": [
            "Circle count: 0\n",
            "Triangle count: 1\n",
            "Square count: 2\n"
          ]
        },
        {
          "data": {
            "image/png": "[encoded data removed]",
            "text/plain": [
              "<PIL.Image.Image image mode=RGB size=300x300>"
            ]
          },
          "metadata": {},
          "output_type": "display_data"
        },
        {
          "name": "stdout",
          "output_type": "stream",
          "text": [
            "Circle count: 1\n",
            "Triangle count: 0\n",
            "Square count: 1\n"
          ]
        },
        {
          "data": {
            "image/png": "[encoded data removed]",
            "text/plain": [
              "<PIL.Image.Image image mode=RGB size=300x300>"
            ]
          },
          "metadata": {},
          "output_type": "display_data"
        },
        {
          "name": "stdout",
          "output_type": "stream",
          "text": [
            "Circle count: 2\n",
            "Triangle count: 1\n",
            "Square count: 0\n"
          ]
        },
        {
          "data": {
            "image/png": "[encoded data removed]",
            "text/plain": [
              "<PIL.Image.Image image mode=RGB size=300x300>"
            ]
          },
          "metadata": {},
          "output_type": "display_data"
        },
        {
          "name": "stdout",
          "output_type": "stream",
          "text": [
            "Circle count: 2\n",
            "Triangle count: 0\n",
            "Square count: 0\n"
          ]
        },
        {
          "data": {
            "image/png": "[encoded data removed]",
            "text/plain": [
              "<PIL.Image.Image image mode=RGB size=300x300>"
            ]
          },
          "metadata": {},
          "output_type": "display_data"
        },
        {
          "name": "stdout",
          "output_type": "stream",
          "text": [
            "Circle count: 1\n",
            "Triangle count: 0\n",
            "Square count: 0\n"
          ]
        },
        {
          "data": {
            "image/png": "[encoded data removed]",
            "text/plain": [
              "<PIL.Image.Image image mode=RGB size=300x300>"
            ]
          },
          "metadata": {},
          "output_type": "display_data"
        },
        {
          "name": "stdout",
          "output_type": "stream",
          "text": [
            "Circle count: 1\n",
            "Triangle count: 1\n",
            "Square count: 0\n"
          ]
        },
        {
          "data": {
            "image/png": "[encoded data removed]",
            "text/plain": [
              "<PIL.Image.Image image mode=RGB size=300x300>"
            ]
          },
          "metadata": {},
          "output_type": "display_data"
        },
        {
          "name": "stdout",
          "output_type": "stream",
          "text": [
            "Circle count: 1\n",
            "Triangle count: 0\n",
            "Square count: 0\n"
          ]
        },
        {
          "data": {
            "image/png": "[encoded data removed]",
            "text/plain": [
              "<PIL.Image.Image image mode=RGB size=300x300>"
            ]
          },
          "metadata": {},
          "output_type": "display_data"
        },
        {
          "name": "stdout",
          "output_type": "stream",
          "text": [
            "Circle count: 1\n",
            "Triangle count: 0\n",
            "Square count: 0\n"
          ]
        },
        {
          "data": {
            "image/png": "[encoded data removed]",
            "text/plain": [
              "<PIL.Image.Image image mode=RGB size=300x300>"
            ]
          },
          "metadata": {},
          "output_type": "display_data"
        },
        {
          "name": "stdout",
          "output_type": "stream",
          "text": [
            "Circle count: 1\n",
            "Triangle count: 1\n",
            "Square count: 0\n"
          ]
        },
        {
          "data": {
            "image/png": "[encoded data removed]",
            "text/plain": [
              "<PIL.Image.Image image mode=RGB size=300x300>"
            ]
          },
          "metadata": {},
          "output_type": "display_data"
        },
        {
          "name": "stdout",
          "output_type": "stream",
          "text": [
            "Circle count: 1\n",
            "Triangle count: 0\n",
            "Square count: 1\n"
          ]
        },
        {
          "data": {
            "image/png": "[encoded data removed]",
            "text/plain": [
              "<PIL.Image.Image image mode=RGB size=300x300>"
            ]
          },
          "metadata": {},
          "output_type": "display_data"
        },
        {
          "name": "stdout",
          "output_type": "stream",
          "text": [
            "Circle count: 1\n",
            "Triangle count: 0\n",
            "Square count: 0\n"
          ]
        },
        {
          "data": {
            "image/png": "[encoded data removed]",
            "text/plain": [
              "<PIL.Image.Image image mode=RGB size=300x300>"
            ]
          },
          "metadata": {},
          "output_type": "display_data"
        },
        {
          "name": "stdout",
          "output_type": "stream",
          "text": [
            "Circle count: 1\n",
            "Triangle count: 0\n",
            "Square count: 0\n"
          ]
        },
        {
          "data": {
            "image/png": "[encoded data removed]",
            "text/plain": [
              "<PIL.Image.Image image mode=RGB size=300x300>"
            ]
          },
          "metadata": {},
          "output_type": "display_data"
        },
        {
          "name": "stdout",
          "output_type": "stream",
          "text": [
            "Circle count: 1\n",
            "Triangle count: 0\n",
            "Square count: 0\n"
          ]
        },
        {
          "data": {
            "image/png": "[encoded data removed]",
            "text/plain": [
              "<PIL.Image.Image image mode=RGB size=300x300>"
            ]
          },
          "metadata": {},
          "output_type": "display_data"
        },
        {
          "name": "stdout",
          "output_type": "stream",
          "text": [
            "Circle count: 1\n",
            "Triangle count: 0\n",
            "Square count: 0\n"
          ]
        },
        {
          "data": {
            "image/png": "[encoded data removed]",
            "text/plain": [
              "<PIL.Image.Image image mode=RGB size=300x300>"
            ]
          },
          "metadata": {},
          "output_type": "display_data"
        },
        {
          "name": "stdout",
          "output_type": "stream",
          "text": [
            "Circle count: 0\n",
            "Triangle count: 0\n",
            "Square count: 1\n"
          ]
        },
        {
          "data": {
            "image/png": "[encoded data removed]",
            "text/plain": [
              "<PIL.Image.Image image mode=RGB size=300x300>"
            ]
          },
          "metadata": {},
          "output_type": "display_data"
        },
        {
          "name": "stdout",
          "output_type": "stream",
          "text": [
            "Circle count: 1\n",
            "Triangle count: 0\n",
            "Square count: 0\n"
          ]
        },
        {
          "data": {
            "image/png": "[encoded data removed]",
            "text/plain": [
              "<PIL.Image.Image image mode=RGB size=300x300>"
            ]
          },
          "metadata": {},
          "output_type": "display_data"
        },
        {
          "name": "stdout",
          "output_type": "stream",
          "text": [
            "Circle count: 1\n",
            "Triangle count: 0\n",
            "Square count: 1\n"
          ]
        },
        {
          "data": {
            "image/png": "[encoded data removed]",
            "text/plain": [
              "<PIL.Image.Image image mode=RGB size=300x300>"
            ]
          },
          "metadata": {},
          "output_type": "display_data"
        },
        {
          "name": "stdout",
          "output_type": "stream",
          "text": [
            "Circle count: 0\n",
            "Triangle count: 0\n",
            "Square count: 1\n"
          ]
        },
        {
          "data": {
            "image/png": "[encoded data removed]",
            "text/plain": [
              "<PIL.Image.Image image mode=RGB size=300x300>"
            ]
          },
          "metadata": {},
          "output_type": "display_data"
        },
        {
          "name": "stdout",
          "output_type": "stream",
          "text": [
            "Circle count: 0\n",
            "Triangle count: 1\n",
            "Square count: 1\n"
          ]
        },
        {
          "data": {
            "image/png": "[encoded data removed]",
            "text/plain": [
              "<PIL.Image.Image image mode=RGB size=300x300>"
            ]
          },
          "metadata": {},
          "output_type": "display_data"
        },
        {
          "name": "stdout",
          "output_type": "stream",
          "text": [
            "Circle count: 2\n",
            "Triangle count: 1\n",
            "Square count: 0\n"
          ]
        },
        {
          "data": {
            "image/png": "[encoded data removed]",
            "text/plain": [
              "<PIL.Image.Image image mode=RGB size=300x300>"
            ]
          },
          "metadata": {},
          "output_type": "display_data"
        },
        {
          "name": "stdout",
          "output_type": "stream",
          "text": [
            "Circle count: 2\n",
            "Triangle count: 0\n",
            "Square count: 0\n"
          ]
        },
        {
          "data": {
            "image/png": "[encoded data removed]",
            "text/plain": [
              "<PIL.Image.Image image mode=RGB size=300x300>"
            ]
          },
          "metadata": {},
          "output_type": "display_data"
        },
        {
          "name": "stdout",
          "output_type": "stream",
          "text": [
            "Circle count: 2\n",
            "Triangle count: 0\n",
            "Square count: 0\n"
          ]
        },
        {
          "data": {
            "image/png": "[encoded data removed]",
            "text/plain": [
              "<PIL.Image.Image image mode=RGB size=300x300>"
            ]
          },
          "metadata": {},
          "output_type": "display_data"
        },
        {
          "name": "stdout",
          "output_type": "stream",
          "text": [
            "Circle count: 0\n",
            "Triangle count: 2\n",
            "Square count: 0\n"
          ]
        },
        {
          "data": {
            "image/png": "[encoded data removed]",
            "text/plain": [
              "<PIL.Image.Image image mode=RGB size=300x300>"
            ]
          },
          "metadata": {},
          "output_type": "display_data"
        },
        {
          "name": "stdout",
          "output_type": "stream",
          "text": [
            "Circle count: 1\n",
            "Triangle count: 0\n",
            "Square count: 0\n"
          ]
        },
        {
          "data": {
            "image/png": "[encoded data removed]",
            "text/plain": [
              "<PIL.Image.Image image mode=RGB size=300x300>"
            ]
          },
          "metadata": {},
          "output_type": "display_data"
        },
        {
          "name": "stdout",
          "output_type": "stream",
          "text": [
            "Circle count: 1\n",
            "Triangle count: 0\n",
            "Square count: 0\n"
          ]
        },
        {
          "data": {
            "image/png": "[encoded data removed]",
            "text/plain": [
              "<PIL.Image.Image image mode=RGB size=300x300>"
            ]
          },
          "metadata": {},
          "output_type": "display_data"
        },
        {
          "name": "stdout",
          "output_type": "stream",
          "text": [
            "Circle count: 4\n",
            "Triangle count: 0\n",
            "Square count: 0\n"
          ]
        },
        {
          "data": {
            "image/png": "[encoded data removed]",
            "text/plain": [
              "<PIL.Image.Image image mode=RGB size=300x300>"
            ]
          },
          "metadata": {},
          "output_type": "display_data"
        },
        {
          "name": "stdout",
          "output_type": "stream",
          "text": [
            "Circle count: 1\n",
            "Triangle count: 0\n",
            "Square count: 0\n"
          ]
        },
        {
          "data": {
            "image/png": "[encoded data removed]",
            "text/plain": [
              "<PIL.Image.Image image mode=RGB size=300x300>"
            ]
          },
          "metadata": {},
          "output_type": "display_data"
        },
        {
          "name": "stdout",
          "output_type": "stream",
          "text": [
            "Circle count: 1\n",
            "Triangle count: 1\n",
            "Square count: 0\n"
          ]
        },
        {
          "data": {
            "image/png": "[encoded data removed]",
            "text/plain": [
              "<PIL.Image.Image image mode=RGB size=300x300>"
            ]
          },
          "metadata": {},
          "output_type": "display_data"
        },
        {
          "name": "stdout",
          "output_type": "stream",
          "text": [
            "Circle count: 1\n",
            "Triangle count: 0\n",
            "Square count: 0\n"
          ]
        },
        {
          "data": {
            "image/png": "[encoded data removed]",
            "text/plain": [
              "<PIL.Image.Image image mode=RGB size=300x300>"
            ]
          },
          "metadata": {},
          "output_type": "display_data"
        },
        {
          "name": "stdout",
          "output_type": "stream",
          "text": [
            "Circle count: 1\n",
            "Triangle count: 0\n",
            "Square count: 1\n"
          ]
        },
        {
          "data": {
            "image/png": "[encoded data removed]",
            "text/plain": [
              "<PIL.Image.Image image mode=RGB size=300x300>"
            ]
          },
          "metadata": {},
          "output_type": "display_data"
        },
        {
          "name": "stdout",
          "output_type": "stream",
          "text": [
            "Circle count: 1\n",
            "Triangle count: 1\n",
            "Square count: 0\n"
          ]
        },
        {
          "data": {
            "image/png": "[encoded data removed]",
            "text/plain": [
              "<PIL.Image.Image image mode=RGB size=300x300>"
            ]
          },
          "metadata": {},
          "output_type": "display_data"
        },
        {
          "name": "stdout",
          "output_type": "stream",
          "text": [
            "Circle count: 2\n",
            "Triangle count: 0\n",
            "Square count: 0\n"
          ]
        },
        {
          "data": {
            "image/png": "[encoded data removed]",
            "text/plain": [
              "<PIL.Image.Image image mode=RGB size=300x300>"
            ]
          },
          "metadata": {},
          "output_type": "display_data"
        },
        {
          "name": "stdout",
          "output_type": "stream",
          "text": [
            "Circle count: 1\n",
            "Triangle count: 0\n",
            "Square count: 0\n"
          ]
        },
        {
          "data": {
            "image/png": "[encoded data removed]",
            "text/plain": [
              "<PIL.Image.Image image mode=RGB size=300x300>"
            ]
          },
          "metadata": {},
          "output_type": "display_data"
        },
        {
          "name": "stdout",
          "output_type": "stream",
          "text": [
            "Circle count: 1\n",
            "Triangle count: 0\n",
            "Square count: 1\n"
          ]
        },
        {
          "data": {
            "image/png": "[encoded data removed]",
            "text/plain": [
              "<PIL.Image.Image image mode=RGB size=300x300>"
            ]
          },
          "metadata": {},
          "output_type": "display_data"
        },
        {
          "name": "stdout",
          "output_type": "stream",
          "text": [
            "Circle count: 0\n",
            "Triangle count: 1\n",
            "Square count: 1\n"
          ]
        },
        {
          "data": {
            "image/png": "[encoded data removed]",
            "text/plain": [
              "<PIL.Image.Image image mode=RGB size=300x300>"
            ]
          },
          "metadata": {},
          "output_type": "display_data"
        },
        {
          "name": "stdout",
          "output_type": "stream",
          "text": [
            "Circle count: 1\n",
            "Triangle count: 0\n",
            "Square count: 0\n"
          ]
        },
        {
          "data": {
            "image/png": "[encoded data removed]",
            "text/plain": [
              "<PIL.Image.Image image mode=RGB size=300x300>"
            ]
          },
          "metadata": {},
          "output_type": "display_data"
        },
        {
          "name": "stdout",
          "output_type": "stream",
          "text": [
            "Circle count: 1\n",
            "Triangle count: 0\n",
            "Square count: 1\n"
          ]
        },
        {
          "data": {
            "image/png": "[encoded data removed]",
            "text/plain": [
              "<PIL.Image.Image image mode=RGB size=300x300>"
            ]
          },
          "metadata": {},
          "output_type": "display_data"
        },
        {
          "name": "stdout",
          "output_type": "stream",
          "text": [
            "Circle count: 1\n",
            "Triangle count: 0\n",
            "Square count: 0\n"
          ]
        },
        {
          "data": {
            "image/png": "[encoded data removed]",
            "text/plain": [
              "<PIL.Image.Image image mode=RGB size=300x300>"
            ]
          },
          "metadata": {},
          "output_type": "display_data"
        },
        {
          "name": "stdout",
          "output_type": "stream",
          "text": [
            "Circle count: 1\n",
            "Triangle count: 1\n",
            "Square count: 0\n"
          ]
        },
        {
          "data": {
            "image/png": "[encoded data removed]",
            "text/plain": [
              "<PIL.Image.Image image mode=RGB size=300x300>"
            ]
          },
          "metadata": {},
          "output_type": "display_data"
        },
        {
          "name": "stdout",
          "output_type": "stream",
          "text": [
            "Circle count: 1\n",
            "Triangle count: 1\n",
            "Square count: 0\n"
          ]
        },
        {
          "data": {
            "image/png": "[encoded data removed]",
            "text/plain": [
              "<PIL.Image.Image image mode=RGB size=300x300>"
            ]
          },
          "metadata": {},
          "output_type": "display_data"
        },
        {
          "name": "stdout",
          "output_type": "stream",
          "text": [
            "Circle count: 1\n",
            "Triangle count: 0\n",
            "Square count: 0\n",
            "\n",
            "accuarcy : 0.0\n"
          ]
        }
      ],
      "source": [
        "correct_predictions = 0\n",
        "\n",
        "# Iterate over each file in the folder\n",
        "for file_name in file_names:\n",
        "    # Construct the full path to the image file\n",
        "    file_path = os.path.join(folder_path, file_name)\n",
        "\n",
        "    # Check if the file is an image (you may want to add additional checks here)\n",
        "    if file_name.lower().endswith('.png'):\n",
        "        # Read the image using OpenCV\n",
        "        image = cv2.imread(file_path)\n",
        "\n",
        "        # Display the image (optional)\n",
        "        if image is not None:\n",
        "            cv2_imshow(image)\n",
        "            # cv2.imshow(\"Image\", image)\n",
        "            cv2.waitKey(0)\n",
        "            cv2.destroyAllWindows()\n",
        "        else:\n",
        "            print(f\"Failed to read the image: {file_name}\")\n",
        "\n",
        "        # Detect shapes\n",
        "        circle_count, triangle_count, square_count = detect_shapes_v2(image)\n",
        "        if (circle_count, triangle_count, square_count) == ground_truth[file_name]:\n",
        "          correct_predictions += 1\n",
        "\n",
        "        # Print the counts\n",
        "        print(\"Circle count:\", circle_count)\n",
        "        print(\"Triangle count:\", triangle_count)\n",
        "        print(\"Square count:\", square_count)\n",
        "\n",
        "# Evaluate performance\n",
        "accuracy = correct_predictions / total_images\n",
        "\n",
        "print(\"\")\n",
        "print('accuarcy :', accuracy)\n"
      ]
    },
    {
      "cell_type": "markdown",
      "metadata": {
        "id": "UgVlSswaa3hm"
      },
      "source": [
        "similar to above, the accuracy shows 0% due to an error i am unable to troubleshoot.\n",
        "\n",
        "by bruteforce counting, i got an accuracy of 23/99 or 23.2%."
      ]
    },
    {
      "cell_type": "markdown",
      "metadata": {
        "id": "zFBZ_m6Ub01J"
      },
      "source": [
        "# conclusion:\n",
        "\n",
        "-my first model is more accurate. it functions by calculating the vertices of a shape and estimating the shape based on the number. it has a 100% prediction rate GIVEN that there are no overlapping shapes. when the shapes overlap, its accuracy dips significantly. an explanation i can provide is that by overlapping shapes, the algorithm assumes its a singular shapes and counts all vertices, resulting in an abnormal number of shapes. for example, a square and a triangle may overlap, resulting in 5 vertices instead of 3 and 4. this results in the algrotithm classifying it as a circle due to the nature of the sentinel restrictions i set in the algorithm's if else cotrol. in fringe cases, a smaller shape overlaps with a significantly larger shape, causing the algrotihm to miss that smaller shape and accuartely determining the shape of the larger shape. this however still results in an overall wrong prediction as it does not recognise and predict the smaller shapes. (ie: it guesses 2 shapes out of 3 correctly due to the algorithm mistakenly missing the small shape)\n",
        "\n",
        "-on the other hand, the second mother functions by estimating the shapes through the contours. this model has an worse performance. similar to the above model, this model also suffers when it comes to overlapping shapes. an additional flaw that i have noticed is that this model is unable to accurately estimate shapes of very very small sizes, often misclasifying very small triangles and squares as circles, resulting in this algorithm having worse performance than the first one."
      ]
    },
    {
      "cell_type": "markdown",
      "metadata": {
        "id": "S9hPs_kLf1WH"
      },
      "source": [
        "# Afterword:\n",
        "\n",
        "one other method i can use for this problem would be deep learning using convolutional neural network. as this method is outside my curiculum, i did my own research on how to use this method. however, i will be completely transparent and admit that i found difficulty in implementing this CNN and am unable to produce a working code. I would however love to have an opportunity to touch on CNN and learn firsthand from seniors if i were given the internship role.\n",
        "\n",
        "I will share what i have learnt from my research of the CNN method.\n",
        "\n",
        "\n",
        "\n",
        "# YOLO research\n",
        "YOLO shares the same abbreviation as the buzzword from the early 20s, you oly live once, but in this context, it means you only look once. it is a groundbreaking CNN mechanism that is very efficient for image recognition problems. it functions by dividing images into a grid, and assigning values to each grid including: confidence score(probability of an actual object existing in said grid) and class probabilites, which are basically the chance of a label being correct for the object in its grid.\n",
        "\n",
        "the first step to using this method is to provide a training set for supervised learning. this is done by preparing (in the context of this problem) images of clear white shapes in a black background clearly labeled in a txt file for annotations with the following format: class(triangle/square/circle) x_center y_center width height.\n",
        "\n",
        "next i imported the YOLO5 repository from github using thw foloowing code:\n",
        "\n",
        "\\\n",
        "git clone https://github.com/ultralytics/yolov5.git\n",
        "\n",
        "cd yolov5\n",
        "\n",
        "pip install -r requirements.txt\n",
        "\n",
        "i then created yaml files for my dataset like the code shown below:\n",
        "\n",
        "\\\n",
        "\n",
        "train: C:/Users/acer/Desktop/sertis/YOLO/data/images/train\n",
        "\n",
        "val: C:/Users/acer/Desktop/sertis/YOLO//data/images/val\n",
        "\n",
        "nc: 3\n",
        "\n",
        "names: ['circle', 'triangle', 'square']\n",
        "\n",
        "\\\n",
        "\n",
        "which is then followed up by the command to train the model (note the backslash to escape the # from turning that line into a header in this notebook\n",
        "\n",
        "\\\n",
        "\n",
        "import torch\n",
        "\n",
        "/# Train YOLOv5s on the custom dataset for 100 epochs\n",
        "\n",
        "!python train.py --img 640 --batch 16 --epochs 100 --data data/shapes.yaml --cfg models/yolov5s.yaml --weights yolov5s.pt --name shapes-detector\n",
        "\n",
        "whcih is then followed up with the followign command to evaluate the model\n",
        "/# Run validation\n",
        "\n",
        "!python val.py --weights runs/train/shapes-detector/weights/best.pt --data data/shapes.yaml --img 640 --batch 16\n",
        "\n",
        "import torch\n",
        "\n",
        "from pathlib import Path\n",
        "\n",
        "\n",
        "from this point onwards, i will perform the standard data analytics architecture of loading the testing on the provided dataset of images.\n"
      ]
    },
    {
      "cell_type": "code",
      "execution_count": null,
      "metadata": {
        "id": "eGnr0eCzo1BN"
      },
      "outputs": [],
      "source": [
        "#code from my attempt to use YOLO CNN\n",
        "# correct_predictions = 0\n",
        "\n",
        "# # Load the trained model\n",
        "# model = torch.hub.load('ultralytics/yolov5', 'custom', path='runs/train/shapes-detector/weights/best.pt')\n",
        "\n",
        "# # Iterate over each file in the folder\n",
        "# for file_name in file_names:\n",
        "#     # Construct the full path to the image file\n",
        "#     file_path = os.path.join(folder_path, file_name)\n",
        "\n",
        "#     # Check if the file is an image (you may want to add additional checks here)\n",
        "#     if file_name.lower().endswith('.png'):\n",
        "#         # Read the image using OpenCV\n",
        "#         image = cv2.imread(file_path)\n",
        "\n",
        "#         # Display the image (optional)\n",
        "#         if image is not None:\n",
        "#             cv2_imshow(image)\n",
        "#             # cv2.imshow(\"Image\", image)\n",
        "#             cv2.waitKey(0)\n",
        "#             cv2.destroyAllWindows()\n",
        "#         else:\n",
        "#             print(f\"Failed to read the image: {file_name}\")\n",
        "\n",
        "#         # Detect shapes\n",
        "#         # Perform inference\n",
        "#         results = model(image)\n",
        "#         results.print()\n",
        "#         results.show()\n",
        "\n",
        "#         # Save results to a file\n",
        "#         results.save(Path('runs/inference'))\n",
        "\n",
        "#         if results[file_name] == ground_truth[file_name]:\n",
        "#           correct_predictions += 1\n",
        "\n",
        "#         # # Print the counts\n",
        "#         # print(\"Circle count:\", circle_count)\n",
        "#         # print(\"Triangle count:\", triangle_count)\n",
        "#         # print(\"Square count:\", square_count)\n",
        "\n",
        "# # Evaluate performance\n",
        "# accuracy = correct_predictions / total_images\n",
        "\n",
        "# print(\"\")\n",
        "# print('accuarcy :', accuracy)\n",
        "\n",
        "\n",
        "\n",
        "\n",
        "\n",
        "\n",
        "\n"
      ]
    }
  ],
  "metadata": {
    "colab": {
      "provenance": []
    },
    "kernelspec": {
      "display_name": "Python 3",
      "name": "python3"
    },
    "language_info": {
      "name": "python"
    }
  },
  "nbformat": 4,
  "nbformat_minor": 0
}
